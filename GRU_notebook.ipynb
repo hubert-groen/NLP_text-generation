{
 "cells": [
  {
   "cell_type": "code",
   "execution_count": 35,
   "metadata": {
    "id": "yG_n40gFzf9s",
    "trusted": true
   },
   "outputs": [],
   "source": [
    "import tensorflow as tf\n",
    "import numpy as np\n",
    "import os\n",
    "import time"
   ]
  },
  {
   "cell_type": "markdown",
   "metadata": {},
   "source": [
    "### SOURCE TEXT LOADING\n",
    "- loading .txt\n",
    "- printing the beginning, number of characters, number of unique characters\n",
    "    "
   ]
  },
  {
   "cell_type": "code",
   "execution_count": 36,
   "metadata": {
    "id": "aavnuByVymwK",
    "trusted": true
   },
   "outputs": [
    {
     "name": "stdout",
     "output_type": "stream",
     "text": [
      "THE  FELLOWSHIP \n",
      "OF  THE  RING \n",
      "\n",
      "\n",
      "BEING  THE  FIRST  PART \n",
      "OF \n",
      "\n",
      "The  Lord  of  the  Rings \n",
      "\n",
      "\n",
      "BOOK  ONE \n",
      "\n",
      "\n",
      "Chapter  I \n",
      "\n",
      "\n",
      "A  LONG-EXPECTED  PARTY \n",
      "\n",
      "\n",
      "When  Mr.  Bilbo  Baggins  of  Bag  End  announced  that  he \n",
      "would  shortly  be  celebrating  his  eleventy-first  birthday  with \n",
      "a  party  of  special\n"
     ]
    }
   ],
   "source": [
    "with open(\"ring.txt\", \"r\") as f:\n",
    "    source = f.read()\n",
    "print(source[:300])"
   ]
  },
  {
   "cell_type": "code",
   "execution_count": 37,
   "metadata": {
    "id": "Duhg9NrUymwO",
    "trusted": true
   },
   "outputs": [
    {
     "name": "stdout",
     "output_type": "stream",
     "text": [
      "1145534 characters\n"
     ]
    }
   ],
   "source": [
    "print ('{} characters'.format(len(source)))"
   ]
  },
  {
   "cell_type": "code",
   "execution_count": 38,
   "metadata": {
    "id": "IlCgQBRVymwR",
    "trusted": true
   },
   "outputs": [
    {
     "name": "stdout",
     "output_type": "stream",
     "text": [
      "88 unique characters\n"
     ]
    }
   ],
   "source": [
    "vocab = sorted(set(source))\n",
    "print ('{} unique characters'.format(len(vocab)))"
   ]
  },
  {
   "cell_type": "code",
   "execution_count": 39,
   "metadata": {
    "id": "IalZLbvOzf-F",
    "trusted": true
   },
   "outputs": [
    {
     "name": "stdout",
     "output_type": "stream",
     "text": [
      "[45 33 30 ...  1  0  0]\n"
     ]
    }
   ],
   "source": [
    "# unique characters to indices mapping\n",
    "char2index = {u:i for i, u in enumerate(vocab)}\n",
    "index2char = np.array(vocab)\n",
    "\n",
    "text_as_int = np.array([char2index[c] for c in source])\n",
    "\n",
    "print(text_as_int)"
   ]
  },
  {
   "cell_type": "code",
   "execution_count": 40,
   "metadata": {
    "id": "l1VKcQHcymwb",
    "trusted": true
   },
   "outputs": [
    {
     "name": "stdout",
     "output_type": "stream",
     "text": [
      "'THE  FELLOWSH' -- characters mapped to int -- > [45 33 30  1  1 31 30 37 37 40 48 44 33]\n"
     ]
    }
   ],
   "source": [
    "print ('{} -- characters mapped to int -- > {}'.format(repr(source[:13]), text_as_int[:13]))"
   ]
  },
  {
   "cell_type": "markdown",
   "metadata": {},
   "source": [
    "### DATASET PREPROCESSING\n",
    "- character to index mapping and converting text to numerical representation\n",
    "- defining max input sequence length\n",
    "- creating TensorFlow Dataset from the source\n",
    "- creating batches from dataset\n",
    "- input-target split function (:-1 is input, and last element is expected value)\n",
    "- applying input-target split function to each batch"
   ]
  },
  {
   "cell_type": "code",
   "execution_count": 41,
   "metadata": {
    "id": "0UHJDA39zf-O",
    "trusted": true
   },
   "outputs": [
    {
     "name": "stdout",
     "output_type": "stream",
     "text": [
      "T\n",
      "H\n",
      "E\n",
      " \n",
      " \n"
     ]
    }
   ],
   "source": [
    "seq_length = 100\n",
    "examples_per_epoch = len(source)//(seq_length+1)\n",
    "\n",
    "char_dataset = tf.data.Dataset.from_tensor_slices(text_as_int)\n",
    "\n",
    "for i in char_dataset.take(5):\n",
    "  print(index2char[i.numpy()])\n"
   ]
  },
  {
   "cell_type": "code",
   "execution_count": 42,
   "metadata": {
    "id": "l4hkDU3i7ozi",
    "trusted": true
   },
   "outputs": [
    {
     "name": "stdout",
     "output_type": "stream",
     "text": [
      "'THE  FELLOWSHIP \\nOF  THE  RING \\n\\n\\nBEING  THE  FIRST  PART \\nOF \\n\\nThe  Lord  of  the  Rings \\n\\n\\nBOOK  ON'\n",
      "'E \\n\\n\\nChapter  I \\n\\n\\nA  LONG-EXPECTED  PARTY \\n\\n\\nWhen  Mr.  Bilbo  Baggins  of  Bag  End  announced  tha'\n",
      "'t  he \\nwould  shortly  be  celebrating  his  eleventy-first  birthday  with \\na  party  of  special  m'\n",
      "'agnificence,  there  was  much  talk  and \\nexcitement  in  Hobbiton. \\n\\nBilbo  was  very  rich  and  v'\n",
      "'ery  peculiar,  and  had  been  the \\nwonder  of  the  Shire  for  sixty  years,  ever  since  his  re'\n"
     ]
    }
   ],
   "source": [
    "sequences = char_dataset.batch(seq_length+1, drop_remainder=True)\n",
    "\n",
    "for item in sequences.take(5):\n",
    "  print(repr(''.join(index2char[item.numpy()])))"
   ]
  },
  {
   "cell_type": "code",
   "execution_count": 43,
   "metadata": {
    "id": "9NGu-FkO_kYU",
    "trusted": true
   },
   "outputs": [],
   "source": [
    "def split_input_target(chunk):\n",
    "    input_text = chunk[:-1]\n",
    "    target_text = chunk[1:]\n",
    "    return input_text, target_text\n",
    "\n",
    "dataset = sequences.map(split_input_target)"
   ]
  },
  {
   "cell_type": "markdown",
   "metadata": {},
   "source": [
    "### PARAMETERS\n",
    "- training parameters & data shuffling\n",
    "- model hyperparameters"
   ]
  },
  {
   "cell_type": "code",
   "execution_count": 44,
   "metadata": {
    "id": "p2pGotuNzf-S",
    "trusted": true
   },
   "outputs": [
    {
     "data": {
      "text/plain": [
       "<BatchDataset element_spec=(TensorSpec(shape=(512, 100), dtype=tf.int64, name=None), TensorSpec(shape=(512, 100), dtype=tf.int64, name=None))>"
      ]
     },
     "execution_count": 44,
     "metadata": {},
     "output_type": "execute_result"
    }
   ],
   "source": [
    "BATCH_SIZE = 512\n",
    "BUFFER_SIZE = 10000\n",
    "\n",
    "dataset = dataset.shuffle(BUFFER_SIZE).batch(BATCH_SIZE, drop_remainder=True)\n",
    "\n",
    "dataset"
   ]
  },
  {
   "cell_type": "code",
   "execution_count": 45,
   "metadata": {
    "id": "zHT8cLh7EAsg",
    "trusted": true
   },
   "outputs": [
    {
     "name": "stdout",
     "output_type": "stream",
     "text": [
      "88\n"
     ]
    }
   ],
   "source": [
    "# Length of the vocabulary in chars\n",
    "vocab_size = len(vocab)\n",
    "\n",
    "# The embedding dimension\n",
    "embedding_dim = 300 #256\n",
    "\n",
    "# Number of RNN units\n",
    "rnn_units1 = 1024\n",
    "rnn_units2 = 1024\n",
    "rnn_units=[rnn_units1, rnn_units2]\n",
    "print(vocab_size)"
   ]
  },
  {
   "cell_type": "markdown",
   "metadata": {},
   "source": [
    "### BUILDING MODEL\n",
    "- GRU, LSTM, RNN, with Conv1"
   ]
  },
  {
   "cell_type": "code",
   "execution_count": 46,
   "metadata": {
    "id": "MtCrdfzEI2N0",
    "trusted": true
   },
   "outputs": [],
   "source": [
    "# ORIGINAL GRU\n",
    "def build_model(vocab_size, embedding_dim, rnn_units, batch_size):\n",
    "  model = tf.keras.Sequential([\n",
    "    tf.keras.layers.Embedding(vocab_size, embedding_dim,\n",
    "                              batch_input_shape=[batch_size, None]),\n",
    "    tf.keras.layers.GRU(rnn_units1,\n",
    "                        return_sequences=True,\n",
    "                        stateful=True,\n",
    "                        recurrent_initializer='glorot_uniform'),\n",
    "    tf.keras.layers.GRU(rnn_units2,\n",
    "                        return_sequences=True,\n",
    "                        stateful=True,\n",
    "                        recurrent_initializer='glorot_uniform'),\n",
    "    tf.keras.layers.Dense(vocab_size)\n",
    "  ])\n",
    "  return model"
   ]
  },
  {
   "cell_type": "code",
   "execution_count": 47,
   "metadata": {},
   "outputs": [],
   "source": [
    "# # LSTM\n",
    "# def build_model(vocab_size, embedding_dim, rnn_units, batch_size):\n",
    "#     model = tf.keras.Sequential([\n",
    "#         tf.keras.layers.Embedding(vocab_size, embedding_dim, \n",
    "#                                   batch_input_shape=[batch_size, None]),\n",
    "#         tf.keras.layers.LSTM(rnn_units1,\n",
    "#                              return_sequences=True,\n",
    "#                              stateful=True,\n",
    "#                              recurrent_initializer='glorot_uniform'),\n",
    "#         tf.keras.layers.LSTM(rnn_units2,\n",
    "#                              return_sequences=True,\n",
    "#                              stateful=True,\n",
    "#                              recurrent_initializer='glorot_uniform'),\n",
    "#         tf.keras.layers.Dense(vocab_size)\n",
    "#     ])\n",
    "#     return model"
   ]
  },
  {
   "cell_type": "code",
   "execution_count": 48,
   "metadata": {},
   "outputs": [],
   "source": [
    "# # RNN\n",
    "# def build_model(vocab_size, embedding_dim, rnn_units, batch_size):\n",
    "#     model = tf.keras.Sequential([\n",
    "#         tf.keras.layers.Embedding(vocab_size, embedding_dim, \n",
    "#                                   batch_input_shape=[batch_size, None]),\n",
    "#         tf.keras.layers.SimpleRNN(rnn_units1,\n",
    "#                                   return_sequences=True,\n",
    "#                                   stateful=True,\n",
    "#                                   recurrent_initializer='glorot_uniform'),\n",
    "#         tf.keras.layers.SimpleRNN(rnn_units2,\n",
    "#                                   return_sequences=True,\n",
    "#                                   stateful=True,\n",
    "#                                   recurrent_initializer='glorot_uniform'),\n",
    "#         tf.keras.layers.Dense(vocab_size)\n",
    "#     ])\n",
    "#     return model\n"
   ]
  },
  {
   "cell_type": "code",
   "execution_count": 49,
   "metadata": {},
   "outputs": [],
   "source": [
    "# # dodanie Conv1\n",
    "# def build_model(vocab_size, embedding_dim, rnn_units, batch_size):\n",
    "#     model = tf.keras.Sequential([\n",
    "#         tf.keras.layers.Embedding(vocab_size, embedding_dim, \n",
    "#                                   batch_input_shape=[batch_size, None]),\n",
    "#         tf.keras.layers.Conv1D(filters=128, \n",
    "#                                kernel_size=5, \n",
    "#                                activation='relu', \n",
    "#                                padding='same'),\n",
    "#         tf.keras.layers.GRU(rnn_units1,\n",
    "#                             return_sequences=True,\n",
    "#                             stateful=True,\n",
    "#                             recurrent_initializer='glorot_uniform'),\n",
    "#         tf.keras.layers.GRU(rnn_units2,\n",
    "#                             return_sequences=True,\n",
    "#                             stateful=True,\n",
    "#                             recurrent_initializer='glorot_uniform'),\n",
    "#         tf.keras.layers.Dense(vocab_size)\n",
    "#     ])\n",
    "#     return model\n"
   ]
  },
  {
   "cell_type": "code",
   "execution_count": 50,
   "metadata": {
    "id": "wwsrpOik5zhv",
    "trusted": true
   },
   "outputs": [
    {
     "name": "stdout",
     "output_type": "stream",
     "text": [
      "WARNING:tensorflow:Detecting that an object or model or tf.train.Checkpoint is being deleted with unrestored values. See the following logs for the specific values in question. To silence these warnings, use `status.expect_partial()`. See https://www.tensorflow.org/api_docs/python/tf/train/Checkpoint#restorefor details about the status object returned by the restore function.\n",
      "WARNING:tensorflow:Value in checkpoint could not be found in the restored object: (root).optimizer._iterations\n",
      "WARNING:tensorflow:Value in checkpoint could not be found in the restored object: (root).optimizer._learning_rate\n",
      "WARNING:tensorflow:Value in checkpoint could not be found in the restored object: (root).optimizer._variables.1\n",
      "WARNING:tensorflow:Value in checkpoint could not be found in the restored object: (root).optimizer._variables.2\n",
      "WARNING:tensorflow:Value in checkpoint could not be found in the restored object: (root).optimizer._variables.3\n",
      "WARNING:tensorflow:Value in checkpoint could not be found in the restored object: (root).optimizer._variables.4\n",
      "WARNING:tensorflow:Value in checkpoint could not be found in the restored object: (root).optimizer._variables.5\n",
      "WARNING:tensorflow:Value in checkpoint could not be found in the restored object: (root).optimizer._variables.6\n",
      "WARNING:tensorflow:Value in checkpoint could not be found in the restored object: (root).optimizer._variables.7\n",
      "WARNING:tensorflow:Value in checkpoint could not be found in the restored object: (root).optimizer._variables.8\n",
      "WARNING:tensorflow:Value in checkpoint could not be found in the restored object: (root).optimizer._variables.9\n",
      "WARNING:tensorflow:Value in checkpoint could not be found in the restored object: (root).optimizer._variables.10\n",
      "WARNING:tensorflow:Value in checkpoint could not be found in the restored object: (root).optimizer._variables.11\n",
      "WARNING:tensorflow:Value in checkpoint could not be found in the restored object: (root).optimizer._variables.12\n",
      "WARNING:tensorflow:Value in checkpoint could not be found in the restored object: (root).optimizer._variables.13\n",
      "WARNING:tensorflow:Value in checkpoint could not be found in the restored object: (root).optimizer._variables.14\n",
      "WARNING:tensorflow:Value in checkpoint could not be found in the restored object: (root).optimizer._variables.15\n",
      "WARNING:tensorflow:Value in checkpoint could not be found in the restored object: (root).optimizer._variables.16\n",
      "WARNING:tensorflow:Value in checkpoint could not be found in the restored object: (root).optimizer._variables.17\n",
      "WARNING:tensorflow:Value in checkpoint could not be found in the restored object: (root).optimizer._variables.18\n"
     ]
    }
   ],
   "source": [
    "model = build_model(\n",
    "  vocab_size = vocab_size,\n",
    "  embedding_dim=embedding_dim,\n",
    "  rnn_units=rnn_units,\n",
    "  batch_size=BATCH_SIZE)"
   ]
  },
  {
   "cell_type": "code",
   "execution_count": 51,
   "metadata": {
    "id": "vPGmAAXmVLGC",
    "trusted": true
   },
   "outputs": [
    {
     "name": "stdout",
     "output_type": "stream",
     "text": [
      "Model: \"sequential_2\"\n",
      "_________________________________________________________________\n",
      " Layer (type)                Output Shape              Param #   \n",
      "=================================================================\n",
      " embedding_2 (Embedding)     (512, None, 300)          26400     \n",
      "                                                                 \n",
      " gru_4 (GRU)                 (512, None, 1024)         4073472   \n",
      "                                                                 \n",
      " gru_5 (GRU)                 (512, None, 1024)         6297600   \n",
      "                                                                 \n",
      " dense_2 (Dense)             (512, None, 88)           90200     \n",
      "                                                                 \n",
      "=================================================================\n",
      "Total params: 10,487,672\n",
      "Trainable params: 10,487,672\n",
      "Non-trainable params: 0\n",
      "_________________________________________________________________\n"
     ]
    }
   ],
   "source": [
    "model.summary()"
   ]
  },
  {
   "cell_type": "markdown",
   "metadata": {},
   "source": [
    "### MODEL TRAINING\n",
    "- optimizer & loss function declaration\n",
    "- compilation\n",
    "- epochs number\n",
    "- launching the training"
   ]
  },
  {
   "cell_type": "code",
   "execution_count": 52,
   "metadata": {
    "id": "4HrXTACTdzY-",
    "trusted": true
   },
   "outputs": [],
   "source": [
    "def loss(labels, logits):\n",
    "  return tf.keras.losses.sparse_categorical_crossentropy(labels, logits, from_logits=True)"
   ]
  },
  {
   "cell_type": "code",
   "execution_count": 53,
   "metadata": {
    "id": "DDl1_Een6rL0",
    "trusted": true
   },
   "outputs": [],
   "source": [
    "model.compile(optimizer='adam', loss=loss, metrics=['accuracy'])"
   ]
  },
  {
   "cell_type": "code",
   "execution_count": 54,
   "metadata": {
    "id": "W6fWTriUZP-n",
    "trusted": true
   },
   "outputs": [],
   "source": [
    "checkpoint_dir = './checkpoints_GRU'        # TODO: remember to choose proper directory\n",
    "checkpoint_prefix = os.path.join(checkpoint_dir, \"ckpt_{epoch}\")\n",
    "\n",
    "checkpoint_callback=tf.keras.callbacks.ModelCheckpoint(\n",
    "    filepath=checkpoint_prefix,\n",
    "    save_weights_only=True)"
   ]
  },
  {
   "cell_type": "code",
   "execution_count": 55,
   "metadata": {
    "id": "7yGBE2zxMMHs",
    "trusted": true
   },
   "outputs": [],
   "source": [
    "EPOCHS=20"
   ]
  },
  {
   "cell_type": "code",
   "execution_count": 56,
   "metadata": {
    "id": "UK-hmKjYVoll",
    "trusted": true
   },
   "outputs": [
    {
     "name": "stdout",
     "output_type": "stream",
     "text": [
      "Epoch 1/20\n"
     ]
    },
    {
     "name": "stdout",
     "output_type": "stream",
     "text": [
      "22/22 [==============================] - 237s 11s/step - loss: 3.8696 - accuracy: 0.2056\n",
      "Epoch 2/20\n",
      "22/22 [==============================] - 221s 10s/step - loss: 2.6716 - accuracy: 0.3245\n",
      "Epoch 3/20\n",
      "22/22 [==============================] - 224s 10s/step - loss: 2.3525 - accuracy: 0.3741\n",
      "Epoch 4/20\n",
      "22/22 [==============================] - 202s 9s/step - loss: 2.1299 - accuracy: 0.4214\n",
      "Epoch 5/20\n",
      "22/22 [==============================] - 196s 9s/step - loss: 1.9785 - accuracy: 0.4446\n",
      "Epoch 6/20\n",
      "22/22 [==============================] - 201s 9s/step - loss: 1.8720 - accuracy: 0.4718\n",
      "Epoch 7/20\n",
      "22/22 [==============================] - 221s 10s/step - loss: 1.7815 - accuracy: 0.4952\n",
      "Epoch 8/20\n",
      "22/22 [==============================] - 240s 11s/step - loss: 1.7028 - accuracy: 0.5152\n",
      "Epoch 9/20\n",
      "22/22 [==============================] - 231s 10s/step - loss: 1.6339 - accuracy: 0.5311\n",
      "Epoch 10/20\n",
      "22/22 [==============================] - 213s 10s/step - loss: 1.5678 - accuracy: 0.5475\n",
      "Epoch 11/20\n",
      "22/22 [==============================] - 212s 10s/step - loss: 1.5076 - accuracy: 0.5630\n",
      "Epoch 12/20\n",
      "22/22 [==============================] - 211s 10s/step - loss: 1.4547 - accuracy: 0.5763\n",
      "Epoch 13/20\n",
      "22/22 [==============================] - 218s 10s/step - loss: 1.4038 - accuracy: 0.5906\n",
      "Epoch 14/20\n",
      "22/22 [==============================] - 205s 9s/step - loss: 1.3573 - accuracy: 0.6028\n",
      "Epoch 15/20\n",
      "22/22 [==============================] - 207s 9s/step - loss: 1.3162 - accuracy: 0.6139\n",
      "Epoch 16/20\n",
      "22/22 [==============================] - 206s 9s/step - loss: 1.2808 - accuracy: 0.6235\n",
      "Epoch 17/20\n",
      "22/22 [==============================] - 206s 9s/step - loss: 1.2511 - accuracy: 0.6308\n",
      "Epoch 18/20\n",
      "22/22 [==============================] - 207s 9s/step - loss: 1.2213 - accuracy: 0.6383\n",
      "Epoch 19/20\n",
      "22/22 [==============================] - 206s 9s/step - loss: 1.1969 - accuracy: 0.6450\n",
      "Epoch 20/20\n",
      "22/22 [==============================] - 206s 9s/step - loss: 1.1739 - accuracy: 0.6506\n"
     ]
    }
   ],
   "source": [
    "history = model.fit(dataset, epochs=EPOCHS, callbacks=[checkpoint_callback])"
   ]
  },
  {
   "cell_type": "code",
   "execution_count": 73,
   "metadata": {},
   "outputs": [
    {
     "data": {
      "image/png": "[encoded data removed]",
      "text/plain": [
       "<Figure size 1200x600 with 2 Axes>"
      ]
     },
     "metadata": {},
     "output_type": "display_data"
    }
   ],
   "source": [
    "import matplotlib.pyplot as plt\n",
    "\n",
    "# Pobranie wartości strat i dokładności z historii\n",
    "loss = history.history['loss']\n",
    "accuracy = history.history['accuracy']\n",
    "epochs = range(1, len(loss) + 1)\n",
    "\n",
    "# Wykres strat i dokładności\n",
    "plt.figure(figsize=(12, 6))\n",
    "\n",
    "# Wykres strat\n",
    "plt.subplot(1, 2, 1)\n",
    "plt.plot(epochs, accuracy, marker='o', label='Accuracy', color='blue')\n",
    "plt.title('Training Accuracy per Epoch')\n",
    "plt.xlabel('Epoch')\n",
    "plt.ylabel('Accuracy')\n",
    "plt.grid(True)\n",
    "plt.legend()\n",
    "\n",
    "# Wykres dokładności\n",
    "plt.subplot(1, 2, 2)\n",
    "plt.plot(epochs, loss, marker='o', label='Loss', color='red')\n",
    "plt.title('Training Loss per Epoch')\n",
    "plt.xlabel('Epoch')\n",
    "plt.ylabel('Loss')\n",
    "plt.grid(True)\n",
    "plt.legend()\n",
    "\n",
    "plt.tight_layout()\n",
    "plt.show()\n"
   ]
  },
  {
   "cell_type": "markdown",
   "metadata": {},
   "source": [
    "### RESULTS\n",
    "- bulding the model and applying saved weights\n",
    "- text generation function\n",
    "- generate text based on the provided beginning"
   ]
  },
  {
   "cell_type": "code",
   "execution_count": 57,
   "metadata": {
    "id": "zk2WJ2-XjkGz",
    "trusted": true
   },
   "outputs": [],
   "source": [
    "latest_check= tf.train.latest_checkpoint(checkpoint_dir)"
   ]
  },
  {
   "cell_type": "code",
   "execution_count": 58,
   "metadata": {
    "id": "LycQ-ot_jjyu",
    "trusted": true
   },
   "outputs": [],
   "source": [
    "model = build_model(vocab_size, embedding_dim, rnn_units, batch_size=1)\n",
    "\n",
    "model.load_weights(latest_check)\n",
    "\n",
    "model.build(tf.TensorShape([1, None]))"
   ]
  },
  {
   "cell_type": "code",
   "execution_count": 59,
   "metadata": {
    "id": "71xa6jnYVrAN",
    "trusted": true
   },
   "outputs": [
    {
     "name": "stdout",
     "output_type": "stream",
     "text": [
      "Model: \"sequential_3\"\n",
      "_________________________________________________________________\n",
      " Layer (type)                Output Shape              Param #   \n",
      "=================================================================\n",
      " embedding_3 (Embedding)     (1, None, 300)            26400     \n",
      "                                                                 \n",
      " gru_6 (GRU)                 (1, None, 1024)           4073472   \n",
      "                                                                 \n",
      " gru_7 (GRU)                 (1, None, 1024)           6297600   \n",
      "                                                                 \n",
      " dense_3 (Dense)             (1, None, 88)             90200     \n",
      "                                                                 \n",
      "=================================================================\n",
      "Total params: 10,487,672\n",
      "Trainable params: 10,487,672\n",
      "Non-trainable params: 0\n",
      "_________________________________________________________________\n"
     ]
    }
   ],
   "source": [
    "model.summary()"
   ]
  },
  {
   "cell_type": "code",
   "execution_count": 60,
   "metadata": {
    "id": "WvuwZBX5Ogfd",
    "trusted": true
   },
   "outputs": [],
   "source": [
    "def generate_text(model, start_string):\n",
    "\n",
    "  num_generate = 1000\n",
    "  input_eval = [char2index[s] for s in start_string]\n",
    "  input_eval = tf.expand_dims(input_eval, 0)\n",
    "  text_generated = []\n",
    "  scaling = 0.5\n",
    "\n",
    "  model.reset_states()\n",
    "  for i in range(num_generate):\n",
    "      predictions = model(input_eval)\n",
    "      predictions = tf.squeeze(predictions, 0)\n",
    "      predictions = predictions / scaling\n",
    "      predicted_id = tf.random.categorical(predictions, num_samples=1)[-1,0].numpy()\n",
    "      input_eval = tf.expand_dims([predicted_id], 0)\n",
    "      text_generated.append(index2char[predicted_id])\n",
    "\n",
    "  return (start_string + ''.join(text_generated))"
   ]
  },
  {
   "cell_type": "code",
   "execution_count": 61,
   "metadata": {
    "trusted": true
   },
   "outputs": [
    {
     "name": "stdout",
     "output_type": "stream",
     "text": [
      "Harry killed Ron  the  made  of  Sauron,  ‘and  they  could  see  the  trees  that  went  only  to  the  boats  and  great  than  it  as  he  saw  that  he  opened  to  the  contlent  of  the  night  of  the  woods  of  the  trees,  and  the  river  of  the  Ring  of  the  land  of  the  wind  was  still  the  light  of  the  hills.  He  was  been  said  into  the  flames  of  the  Shire.  The  last  the  stars  of  the  fail  of  the  world  of  the  wind  hand  and  strong  of  the  others  happened  to  the  shade  of  the  Minas  Tirith  some  of  the  wind  was  a  breatherthere  was  a  the  Ring,  and  the  Ring  the  sun  was  called  him  for  a  long  most  of  the  land  by  some  of  the  world  below  the  stood  and  fair,  and  the  hobbits  and  the  Ring  where  the  wind  was  seemed  to  see \n",
      "the  long  the  tree- \n",
      "time  to  the  colled  before  them  to  the  hill  of  the  ground.  I  was  a  corner  was  many  more  that  he  come  to  the  eastern  of  the  Ring  was  shining  to\n"
     ]
    }
   ],
   "source": [
    "print(generate_text(model, start_string=u\"Harry killed Ron \"))"
   ]
  },
  {
   "cell_type": "code",
   "execution_count": 62,
   "metadata": {},
   "outputs": [
    {
     "name": "stdout",
     "output_type": "stream",
     "text": [
      "Manchaster Uniter just lost the war on Anfield fighting  of  the  shadow  of  the  pile  of  the  stone  of  the  North.  One  that  is  soon  to  the  stars  and  the  sound  of  the  boats.  The  land  of  the  story,  and  he  letter  that  the  boats  and  great  days  of  the  hobbits  and  places  of  the  doors  of  the  west  of  the  stars  were  I  should  see  where  they  came  only  to  the  first  that  had  pleased  and  drawn  a  chance  of  the  middle  of  the  road  was  now  shone  will  be  a  black  power  of  the  River  change  and  the  gate  of  the  Shire,  and  the  Ores  of  the  wind  he  stood  and  light  from  Hobbits  and  the  wind  of  the  stream  of  the  stone  of  the  hobbits  had  raned  the  hobbits.  Frodo  from  the  Ores  were  seemed  to  the  hobbits  and  come  on  the  widard  was  now  stood  and  something  was  before  the  beats.  Not  the  hills  of  the  water  of  the  Shire;  but  the  sun  should  not  soon  as  we  could  not  to  the  air  of  the  hills  of  the  failt  of  the \n"
     ]
    }
   ],
   "source": [
    "print(generate_text(model, start_string=u\"Manchaster Uniter just lost the war on Anfield fighting\"))"
   ]
  },
  {
   "cell_type": "markdown",
   "metadata": {},
   "source": [
    "---"
   ]
  },
  {
   "cell_type": "code",
   "execution_count": 63,
   "metadata": {},
   "outputs": [],
   "source": [
    "def calculate_cross_entropy_loss(model, test_sequences):\n",
    "    total_loss = 0\n",
    "    total_steps = 0\n",
    "    \n",
    "    for sequence in test_sequences:\n",
    "        input_seq = sequence[:-1]\n",
    "        target_seq = sequence[1:]\n",
    "        \n",
    "        input_seq = tf.expand_dims(input_seq, 0)\n",
    "        \n",
    "        predictions = model(input_seq)\n",
    "        \n",
    "        loss = tf.keras.losses.sparse_categorical_crossentropy(target_seq, predictions[0], from_logits=True)\n",
    "        \n",
    "        total_loss += tf.reduce_sum(loss).numpy()\n",
    "        total_steps += len(target_seq)\n",
    "    \n",
    "    avg_loss = total_loss / total_steps\n",
    "    return avg_loss"
   ]
  },
  {
   "cell_type": "code",
   "execution_count": 64,
   "metadata": {},
   "outputs": [],
   "source": [
    "# tutaj można załadować inną część tolkiena albo hobbita\n",
    "first_10_sequences = list(sequences.take(2))"
   ]
  },
  {
   "cell_type": "code",
   "execution_count": 65,
   "metadata": {},
   "outputs": [
    {
     "data": {
      "text/plain": [
       "1.1381225967407227"
      ]
     },
     "execution_count": 65,
     "metadata": {},
     "output_type": "execute_result"
    }
   ],
   "source": [
    "avg_loss = calculate_cross_entropy_loss(model, first_10_sequences)\n",
    "avg_loss"
   ]
  },
  {
   "cell_type": "code",
   "execution_count": 66,
   "metadata": {},
   "outputs": [
    {
     "data": {
      "text/plain": [
       "3.1209036669906842"
      ]
     },
     "execution_count": 66,
     "metadata": {},
     "output_type": "execute_result"
    }
   ],
   "source": [
    "perplexity = np.exp(avg_loss)\n",
    "perplexity"
   ]
  }
 ],
 "metadata": {
  "kernelspec": {
   "display_name": "Python 3",
   "language": "python",
   "name": "python3"
  },
  "language_info": {
   "codemirror_mode": {
    "name": "ipython",
    "version": 3
   },
   "file_extension": ".py",
   "mimetype": "text/x-python",
   "name": "python",
   "nbconvert_exporter": "python",
   "pygments_lexer": "ipython3",
   "version": "3.10.12"
  }
 },
 "nbformat": 4,
 "nbformat_minor": 4
}
