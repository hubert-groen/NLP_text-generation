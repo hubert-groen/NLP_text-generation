{
 "cells": [
  {
   "cell_type": "code",
   "execution_count": 1,
   "metadata": {
    "colab": {
     "base_uri": "https://localhost:8080/",
     "height": 1000
    },
    "id": "Sslqrs0S2Qro",
    "outputId": "628b765a-c3e6-428f-888d-02ef7c1e5ae8"
   },
   "outputs": [
    {
     "name": "stdout",
     "output_type": "stream",
     "text": [
      "Requirement already satisfied: tensorflow==2.12 in /usr/local/lib/python3.8/dist-packages (2.12.0)\n",
      "Requirement already satisfied: tensorflow-io-gcs-filesystem>=0.23.1 in /usr/local/lib/python3.8/dist-packages (from tensorflow==2.12) (0.31.0)\n",
      "Requirement already satisfied: tensorboard<2.13,>=2.12 in /usr/local/lib/python3.8/dist-packages (from tensorflow==2.12) (2.12.0)\n",
      "Requirement already satisfied: h5py>=2.9.0 in /usr/local/lib/python3.8/dist-packages (from tensorflow==2.12) (3.8.0)\n",
      "Requirement already satisfied: packaging in /usr/local/lib/python3.8/dist-packages (from tensorflow==2.12) (23.0)\n",
      "Requirement already satisfied: typing-extensions>=3.6.6 in /usr/local/lib/python3.8/dist-packages (from tensorflow==2.12) (4.5.0)\n",
      "Requirement already satisfied: google-pasta>=0.1.1 in /usr/local/lib/python3.8/dist-packages (from tensorflow==2.12) (0.2.0)\n",
      "Requirement already satisfied: jax>=0.3.15 in /usr/local/lib/python3.8/dist-packages (from tensorflow==2.12) (0.4.6)\n",
      "Requirement already satisfied: flatbuffers>=2.0 in /usr/local/lib/python3.8/dist-packages (from tensorflow==2.12) (23.3.3)\n",
      "Requirement already satisfied: gast<=0.4.0,>=0.2.1 in /usr/local/lib/python3.8/dist-packages (from tensorflow==2.12) (0.4.0)\n",
      "Requirement already satisfied: numpy<1.24,>=1.22 in /usr/local/lib/python3.8/dist-packages (from tensorflow==2.12) (1.23.5)\n",
      "Requirement already satisfied: protobuf!=4.21.0,!=4.21.1,!=4.21.2,!=4.21.3,!=4.21.4,!=4.21.5,<5.0.0dev,>=3.20.3 in /usr/local/lib/python3.8/dist-packages (from tensorflow==2.12) (4.22.1)\n",
      "Requirement already satisfied: setuptools in /usr/local/lib/python3.8/dist-packages (from tensorflow==2.12) (67.6.0)\n",
      "Requirement already satisfied: wrapt<1.15,>=1.11.0 in /usr/local/lib/python3.8/dist-packages (from tensorflow==2.12) (1.14.1)\n",
      "Requirement already satisfied: libclang>=13.0.0 in /usr/local/lib/python3.8/dist-packages (from tensorflow==2.12) (16.0.0)\n",
      "Requirement already satisfied: opt-einsum>=2.3.2 in /usr/local/lib/python3.8/dist-packages (from tensorflow==2.12) (3.3.0)\n",
      "Requirement already satisfied: termcolor>=1.1.0 in /usr/local/lib/python3.8/dist-packages (from tensorflow==2.12) (2.2.0)\n",
      "Requirement already satisfied: keras<2.13,>=2.12.0 in /usr/local/lib/python3.8/dist-packages (from tensorflow==2.12) (2.12.0)\n",
      "Requirement already satisfied: six>=1.12.0 in /usr/lib/python3/dist-packages (from tensorflow==2.12) (1.14.0)\n",
      "Requirement already satisfied: grpcio<2.0,>=1.24.3 in /usr/local/lib/python3.8/dist-packages (from tensorflow==2.12) (1.51.3)\n",
      "Requirement already satisfied: astunparse>=1.6.0 in /usr/local/lib/python3.8/dist-packages (from tensorflow==2.12) (1.6.3)\n",
      "Requirement already satisfied: tensorflow-estimator<2.13,>=2.12.0 in /usr/local/lib/python3.8/dist-packages (from tensorflow==2.12) (2.12.0)\n",
      "Requirement already satisfied: absl-py>=1.0.0 in /usr/local/lib/python3.8/dist-packages (from tensorflow==2.12) (1.4.0)\n",
      "Requirement already satisfied: wheel<1.0,>=0.23.0 in /usr/local/lib/python3.8/dist-packages (from astunparse>=1.6.0->tensorflow==2.12) (0.40.0)\n",
      "Requirement already satisfied: scipy>=1.5 in /usr/local/lib/python3.8/dist-packages (from jax>=0.3.15->tensorflow==2.12) (1.10.1)\n",
      "Requirement already satisfied: google-auth-oauthlib<0.5,>=0.4.1 in /usr/local/lib/python3.8/dist-packages (from tensorboard<2.13,>=2.12->tensorflow==2.12) (0.4.6)\n",
      "Requirement already satisfied: markdown>=2.6.8 in /usr/local/lib/python3.8/dist-packages (from tensorboard<2.13,>=2.12->tensorflow==2.12) (3.4.3)\n",
      "Requirement already satisfied: tensorboard-data-server<0.8.0,>=0.7.0 in /usr/local/lib/python3.8/dist-packages (from tensorboard<2.13,>=2.12->tensorflow==2.12) (0.7.0)\n",
      "Requirement already satisfied: requests<3,>=2.21.0 in /usr/lib/python3/dist-packages (from tensorboard<2.13,>=2.12->tensorflow==2.12) (2.22.0)\n",
      "Requirement already satisfied: tensorboard-plugin-wit>=1.6.0 in /usr/local/lib/python3.8/dist-packages (from tensorboard<2.13,>=2.12->tensorflow==2.12) (1.8.1)\n",
      "Requirement already satisfied: google-auth<3,>=1.6.3 in /usr/local/lib/python3.8/dist-packages (from tensorboard<2.13,>=2.12->tensorflow==2.12) (2.16.2)\n",
      "Requirement already satisfied: werkzeug>=1.0.1 in /usr/local/lib/python3.8/dist-packages (from tensorboard<2.13,>=2.12->tensorflow==2.12) (2.2.3)\n",
      "Requirement already satisfied: cachetools<6.0,>=2.0.0 in /usr/local/lib/python3.8/dist-packages (from google-auth<3,>=1.6.3->tensorboard<2.13,>=2.12->tensorflow==2.12) (5.3.0)\n",
      "Requirement already satisfied: rsa<5,>=3.1.4 in /usr/local/lib/python3.8/dist-packages (from google-auth<3,>=1.6.3->tensorboard<2.13,>=2.12->tensorflow==2.12) (4.9)\n",
      "Requirement already satisfied: pyasn1-modules>=0.2.1 in /usr/local/lib/python3.8/dist-packages (from google-auth<3,>=1.6.3->tensorboard<2.13,>=2.12->tensorflow==2.12) (0.2.8)\n",
      "Requirement already satisfied: requests-oauthlib>=0.7.0 in /usr/local/lib/python3.8/dist-packages (from google-auth-oauthlib<0.5,>=0.4.1->tensorboard<2.13,>=2.12->tensorflow==2.12) (1.3.1)\n",
      "Requirement already satisfied: importlib-metadata>=4.4 in /usr/local/lib/python3.8/dist-packages (from markdown>=2.6.8->tensorboard<2.13,>=2.12->tensorflow==2.12) (6.1.0)\n",
      "Requirement already satisfied: MarkupSafe>=2.1.1 in /usr/local/lib/python3.8/dist-packages (from werkzeug>=1.0.1->tensorboard<2.13,>=2.12->tensorflow==2.12) (2.1.2)\n",
      "Requirement already satisfied: zipp>=0.5 in /usr/local/lib/python3.8/dist-packages (from importlib-metadata>=4.4->markdown>=2.6.8->tensorboard<2.13,>=2.12->tensorflow==2.12) (3.15.0)\n",
      "Requirement already satisfied: pyasn1<0.5.0,>=0.4.6 in /usr/local/lib/python3.8/dist-packages (from pyasn1-modules>=0.2.1->google-auth<3,>=1.6.3->tensorboard<2.13,>=2.12->tensorflow==2.12) (0.4.8)\n",
      "Requirement already satisfied: oauthlib>=3.0.0 in /usr/local/lib/python3.8/dist-packages (from requests-oauthlib>=0.7.0->google-auth-oauthlib<0.5,>=0.4.1->tensorboard<2.13,>=2.12->tensorflow==2.12) (3.2.2)\n",
      "\u001b[33mWARNING: Running pip as the 'root' user can result in broken permissions and conflicting behaviour with the system package manager. It is recommended to use a virtual environment instead: https://pip.pypa.io/warnings/venv\u001b[0m\u001b[33m\n",
      "\u001b[0m\n",
      "\u001b[1m[\u001b[0m\u001b[34;49mnotice\u001b[0m\u001b[1;39;49m]\u001b[0m\u001b[39;49m A new release of pip is available: \u001b[0m\u001b[31;49m23.0.1\u001b[0m\u001b[39;49m -> \u001b[0m\u001b[32;49m24.3.1\u001b[0m\n",
      "\u001b[1m[\u001b[0m\u001b[34;49mnotice\u001b[0m\u001b[1;39;49m]\u001b[0m\u001b[39;49m To update, run: \u001b[0m\u001b[32;49mpython3 -m pip install --upgrade pip\u001b[0m\n",
      "Note: you may need to restart the kernel to use updated packages.\n"
     ]
    }
   ],
   "source": [
    "%pip install tensorflow==2.12"
   ]
  },
  {
   "cell_type": "code",
   "execution_count": 2,
   "metadata": {
    "id": "yG_n40gFzf9s"
   },
   "outputs": [
    {
     "name": "stderr",
     "output_type": "stream",
     "text": [
      "2024-12-29 21:20:15.993034: I tensorflow/core/platform/cpu_feature_guard.cc:182] This TensorFlow binary is optimized to use available CPU instructions in performance-critical operations.\n",
      "To enable the following instructions: AVX2 FMA, in other operations, rebuild TensorFlow with the appropriate compiler flags.\n"
     ]
    }
   ],
   "source": [
    "import tensorflow as tf\n",
    "import numpy as np\n",
    "import os\n",
    "import time"
   ]
  },
  {
   "cell_type": "code",
   "execution_count": 3,
   "metadata": {
    "colab": {
     "base_uri": "https://localhost:8080/",
     "height": 36
    },
    "id": "GKt8JJdY245N",
    "outputId": "2bb7275d-7ff1-40af-be99-a0a5a73c3222"
   },
   "outputs": [
    {
     "data": {
      "text/plain": [
       "'2.12.0'"
      ]
     },
     "execution_count": 3,
     "metadata": {},
     "output_type": "execute_result"
    }
   ],
   "source": [
    "tf.__version__"
   ]
  },
  {
   "cell_type": "markdown",
   "metadata": {
    "id": "4XbYlwu2hhWc"
   },
   "source": [
    "### SOURCE TEXT LOADING\n",
    "- loading .txt\n",
    "- printing the beginning, number of characters, number of unique characters\n",
    "    "
   ]
  },
  {
   "cell_type": "code",
   "execution_count": 4,
   "metadata": {
    "colab": {
     "base_uri": "https://localhost:8080/"
    },
    "id": "aavnuByVymwK",
    "outputId": "51cfed45-b617-4a94-921c-f109072a129b"
   },
   "outputs": [
    {
     "name": "stdout",
     "output_type": "stream",
     "text": [
      "<class 'str'>\n",
      "THE  FELLOWSHIP \n",
      "OF  THE  RING \n",
      "\n",
      "\n",
      "BEING  THE  FIRST  PART \n",
      "OF \n",
      "\n",
      "The  Lord  of  the  Rings \n",
      "\n",
      "\n",
      "BOOK  ONE \n",
      "\n",
      "\n",
      "Chapter  I \n",
      "\n",
      "\n",
      "A  LONG-EXPECTED  PARTY \n",
      "\n",
      "\n",
      "When  Mr.  Bilbo  Baggins  of  Bag  End  announced  t\n"
     ]
    }
   ],
   "source": [
    "with open(\"ring.txt\", \"r\", encoding=\"utf-8\") as f:\n",
    "    source = f.read()\n",
    "print(type(source))\n",
    "print(source[:200])\n"
   ]
  },
  {
   "cell_type": "code",
   "execution_count": 5,
   "metadata": {
    "colab": {
     "base_uri": "https://localhost:8080/"
    },
    "id": "Duhg9NrUymwO",
    "outputId": "5455cf68-8d4e-4846-f720-b1847630aebd"
   },
   "outputs": [
    {
     "name": "stdout",
     "output_type": "stream",
     "text": [
      "1145534 characters\n"
     ]
    }
   ],
   "source": [
    "print (f\"{len(source)} characters\")"
   ]
  },
  {
   "cell_type": "code",
   "execution_count": 6,
   "metadata": {
    "colab": {
     "base_uri": "https://localhost:8080/"
    },
    "id": "IlCgQBRVymwR",
    "outputId": "9a10d424-d3d1-452e-fdef-0a22624372d4"
   },
   "outputs": [
    {
     "name": "stdout",
     "output_type": "stream",
     "text": [
      "88 unique characters\n"
     ]
    }
   ],
   "source": [
    "vocab = sorted(set(source))\n",
    "print (f\"{len(vocab)} unique characters\")"
   ]
  },
  {
   "cell_type": "code",
   "execution_count": 7,
   "metadata": {
    "colab": {
     "base_uri": "https://localhost:8080/"
    },
    "id": "IalZLbvOzf-F",
    "outputId": "3279ea00-4911-4e86-aab2-757ac41d74ec"
   },
   "outputs": [
    {
     "name": "stdout",
     "output_type": "stream",
     "text": [
      "[45 33 30 ...  1  0  0]\n"
     ]
    }
   ],
   "source": [
    "# unique characters to indices mapping\n",
    "char2index = {u: i for i, u in enumerate(vocab)}\n",
    "index2char = np.array(vocab)\n",
    "\n",
    "text_as_int = np.array([char2index[c] for c in source])\n",
    "\n",
    "print(text_as_int)"
   ]
  },
  {
   "cell_type": "code",
   "execution_count": 8,
   "metadata": {
    "colab": {
     "base_uri": "https://localhost:8080/"
    },
    "id": "l1VKcQHcymwb",
    "outputId": "665c3ade-4ea8-4fab-b7c1-1c30d5757afa"
   },
   "outputs": [
    {
     "name": "stdout",
     "output_type": "stream",
     "text": [
      "'THE  FELLOWSH' -- characters mapped to int -- > [45 33 30  1  1 31 30 37 37 40 48 44 33]\n"
     ]
    }
   ],
   "source": [
    "print (f\"{repr(source[:13])} -- characters mapped to int -- > {text_as_int[:13]}\")"
   ]
  },
  {
   "cell_type": "markdown",
   "metadata": {
    "id": "5d6Ahvc1hhWg"
   },
   "source": [
    "### DATASET PREPROCESSING\n",
    "- character to index mapping and converting text to numerical representation\n",
    "- defining max input sequence length\n",
    "- creating TensorFlow Dataset from the source\n",
    "- creating batches from dataset\n",
    "- input-target split function (:-1 is input, and last element is expected value)\n",
    "- applying input-target split function to each batch"
   ]
  },
  {
   "cell_type": "code",
   "execution_count": 9,
   "metadata": {
    "colab": {
     "base_uri": "https://localhost:8080/"
    },
    "id": "0UHJDA39zf-O",
    "outputId": "65e9beb7-9181-41e4-f9a4-83b1c909fda9"
   },
   "outputs": [
    {
     "name": "stderr",
     "output_type": "stream",
     "text": [
      "2024-12-29 21:20:21.888311: I tensorflow/compiler/xla/stream_executor/cuda/cuda_gpu_executor.cc:982] could not open file to read NUMA node: /sys/bus/pci/devices/0000:01:00.0/numa_node\n",
      "Your kernel may have been built without NUMA support.\n",
      "2024-12-29 21:20:21.958125: I tensorflow/compiler/xla/stream_executor/cuda/cuda_gpu_executor.cc:982] could not open file to read NUMA node: /sys/bus/pci/devices/0000:01:00.0/numa_node\n",
      "Your kernel may have been built without NUMA support.\n",
      "2024-12-29 21:20:21.958553: I tensorflow/compiler/xla/stream_executor/cuda/cuda_gpu_executor.cc:982] could not open file to read NUMA node: /sys/bus/pci/devices/0000:01:00.0/numa_node\n",
      "Your kernel may have been built without NUMA support.\n"
     ]
    },
    {
     "name": "stdout",
     "output_type": "stream",
     "text": [
      "T\n",
      "H\n",
      "E\n",
      " \n",
      " \n"
     ]
    },
    {
     "name": "stderr",
     "output_type": "stream",
     "text": [
      "2024-12-29 21:20:21.962747: I tensorflow/compiler/xla/stream_executor/cuda/cuda_gpu_executor.cc:982] could not open file to read NUMA node: /sys/bus/pci/devices/0000:01:00.0/numa_node\n",
      "Your kernel may have been built without NUMA support.\n",
      "2024-12-29 21:20:21.963481: I tensorflow/compiler/xla/stream_executor/cuda/cuda_gpu_executor.cc:982] could not open file to read NUMA node: /sys/bus/pci/devices/0000:01:00.0/numa_node\n",
      "Your kernel may have been built without NUMA support.\n",
      "2024-12-29 21:20:21.964050: I tensorflow/compiler/xla/stream_executor/cuda/cuda_gpu_executor.cc:982] could not open file to read NUMA node: /sys/bus/pci/devices/0000:01:00.0/numa_node\n",
      "Your kernel may have been built without NUMA support.\n",
      "2024-12-29 21:20:22.288446: I tensorflow/compiler/xla/stream_executor/cuda/cuda_gpu_executor.cc:982] could not open file to read NUMA node: /sys/bus/pci/devices/0000:01:00.0/numa_node\n",
      "Your kernel may have been built without NUMA support.\n",
      "2024-12-29 21:20:22.289116: I tensorflow/compiler/xla/stream_executor/cuda/cuda_gpu_executor.cc:982] could not open file to read NUMA node: /sys/bus/pci/devices/0000:01:00.0/numa_node\n",
      "Your kernel may have been built without NUMA support.\n",
      "2024-12-29 21:20:22.289140: I tensorflow/core/common_runtime/gpu/gpu_device.cc:1722] Could not identify NUMA node of platform GPU id 0, defaulting to 0.  Your kernel may not have been built with NUMA support.\n",
      "2024-12-29 21:20:22.289742: I tensorflow/compiler/xla/stream_executor/cuda/cuda_gpu_executor.cc:982] could not open file to read NUMA node: /sys/bus/pci/devices/0000:01:00.0/numa_node\n",
      "Your kernel may have been built without NUMA support.\n",
      "2024-12-29 21:20:22.289791: I tensorflow/core/common_runtime/gpu/gpu_device.cc:1635] Created device /job:localhost/replica:0/task:0/device:GPU:0 with 2913 MB memory:  -> device: 0, name: NVIDIA GeForce GTX 950M, pci bus id: 0000:01:00.0, compute capability: 5.0\n",
      "2024-12-29 21:20:22.691082: I tensorflow/core/common_runtime/executor.cc:1197] [/device:CPU:0] (DEBUG INFO) Executor start aborting (this does not indicate an error and you can ignore this message): INVALID_ARGUMENT: You must feed a value for placeholder tensor 'Placeholder/_0' with dtype int64 and shape [1145534]\n",
      "\t [[{{node Placeholder/_0}}]]\n"
     ]
    }
   ],
   "source": [
    "seq_length = 100\n",
    "examples_per_epoch = len(source)//(seq_length+1)\n",
    "\n",
    "char_dataset = tf.data.Dataset.from_tensor_slices(text_as_int)\n",
    "\n",
    "for i in char_dataset.take(5):\n",
    "  print(index2char[i.numpy()])\n"
   ]
  },
  {
   "cell_type": "code",
   "execution_count": 10,
   "metadata": {
    "colab": {
     "base_uri": "https://localhost:8080/"
    },
    "id": "l4hkDU3i7ozi",
    "outputId": "f3d08804-db4d-4153-e713-f5059a264afb"
   },
   "outputs": [
    {
     "name": "stdout",
     "output_type": "stream",
     "text": [
      "'THE  FELLOWSHIP \\nOF  THE  RING \\n\\n\\nBEING  THE  FIRST  PART \\nOF \\n\\nThe  Lord  of  the  Rings \\n\\n\\nBOOK  ON'\n",
      "'E \\n\\n\\nChapter  I \\n\\n\\nA  LONG-EXPECTED  PARTY \\n\\n\\nWhen  Mr.  Bilbo  Baggins  of  Bag  End  announced  tha'\n",
      "'t  he \\nwould  shortly  be  celebrating  his  eleventy-first  birthday  with \\na  party  of  special  m'\n",
      "'agnificence,  there  was  much  talk  and \\nexcitement  in  Hobbiton. \\n\\nBilbo  was  very  rich  and  v'\n",
      "'ery  peculiar,  and  had  been  the \\nwonder  of  the  Shire  for  sixty  years,  ever  since  his  re'\n"
     ]
    },
    {
     "name": "stderr",
     "output_type": "stream",
     "text": [
      "2024-12-29 21:20:22.750206: I tensorflow/core/common_runtime/executor.cc:1197] [/device:CPU:0] (DEBUG INFO) Executor start aborting (this does not indicate an error and you can ignore this message): INVALID_ARGUMENT: You must feed a value for placeholder tensor 'Placeholder/_0' with dtype int64 and shape [1145534]\n",
      "\t [[{{node Placeholder/_0}}]]\n"
     ]
    }
   ],
   "source": [
    "sequences = char_dataset.batch(seq_length+1, drop_remainder=True)\n",
    "\n",
    "for item in sequences.take(5):\n",
    "  print(repr(''.join(index2char[item.numpy()])))"
   ]
  },
  {
   "cell_type": "code",
   "execution_count": 11,
   "metadata": {
    "id": "9NGu-FkO_kYU"
   },
   "outputs": [],
   "source": [
    "def split_input_target(chunk):\n",
    "    input_text = chunk[:-1]\n",
    "    target_text = chunk[1:]\n",
    "    return input_text, target_text\n",
    "\n",
    "dataset = sequences.map(split_input_target)"
   ]
  },
  {
   "cell_type": "markdown",
   "metadata": {
    "id": "6OoWskEjhhWh"
   },
   "source": [
    "### PARAMETERS\n",
    "- training parameters & data shuffling\n",
    "- model hyperparameters"
   ]
  },
  {
   "cell_type": "code",
   "execution_count": 12,
   "metadata": {
    "colab": {
     "base_uri": "https://localhost:8080/"
    },
    "id": "p2pGotuNzf-S",
    "outputId": "e75e02b0-cc8f-4cf2-d847-e123598d0a19"
   },
   "outputs": [
    {
     "data": {
      "text/plain": [
       "<_BatchDataset element_spec=(TensorSpec(shape=(1024, 100), dtype=tf.int64, name=None), TensorSpec(shape=(1024, 100), dtype=tf.int64, name=None))>"
      ]
     },
     "execution_count": 12,
     "metadata": {},
     "output_type": "execute_result"
    }
   ],
   "source": [
    "BATCH_SIZE = 1024\n",
    "BUFFER_SIZE = 10000\n",
    "\n",
    "dataset = dataset.shuffle(BUFFER_SIZE).batch(BATCH_SIZE, drop_remainder=True)\n",
    "\n",
    "dataset"
   ]
  },
  {
   "cell_type": "code",
   "execution_count": 13,
   "metadata": {
    "colab": {
     "base_uri": "https://localhost:8080/"
    },
    "id": "zHT8cLh7EAsg",
    "outputId": "fc946a97-21cb-4b20-d17b-9811c0beadfb"
   },
   "outputs": [
    {
     "name": "stdout",
     "output_type": "stream",
     "text": [
      "88\n"
     ]
    }
   ],
   "source": [
    "# Length of the vocabulary in chars\n",
    "vocab_size = len(vocab)\n",
    "\n",
    "# The embedding dimension\n",
    "embedding_dim = 300 #256\n",
    "\n",
    "# Number of RNN units\n",
    "rnn_units1 = 256\n",
    "rnn_units2 = 256\n",
    "rnn_units=[rnn_units1, rnn_units2]\n",
    "print(vocab_size)"
   ]
  },
  {
   "cell_type": "markdown",
   "metadata": {
    "id": "p4Wnl8_LhhWi"
   },
   "source": [
    "### BUILDING MODEL\n",
    "- GRU, LSTM, RNN, with Conv1"
   ]
  },
  {
   "cell_type": "code",
   "execution_count": 14,
   "metadata": {
    "id": "MtCrdfzEI2N0"
   },
   "outputs": [],
   "source": [
    "# # ORIGINAL GRU\n",
    "# def build_model(vocab_size, embedding_dim, rnn_units, batch_size):\n",
    "#   model = tf.keras.Sequential([\n",
    "#     tf.keras.layers.Embedding(vocab_size, embedding_dim,\n",
    "#                               batch_input_shape=[batch_size, None]),\n",
    "#     tf.keras.layers.GRU(rnn_units1,\n",
    "#                         return_sequences=True,\n",
    "#                         stateful=True,\n",
    "#                         recurrent_initializer='glorot_uniform'),\n",
    "#     tf.keras.layers.GRU(rnn_units2,\n",
    "#                         return_sequences=True,\n",
    "#                         stateful=True,\n",
    "#                         recurrent_initializer='glorot_uniform'),\n",
    "#     tf.keras.layers.Dense(vocab_size)\n",
    "#   ])\n",
    "#   return model"
   ]
  },
  {
   "cell_type": "code",
   "execution_count": 15,
   "metadata": {
    "id": "kwFcMzeJhhWi"
   },
   "outputs": [],
   "source": [
    "# LSTM\n",
    "def build_model(vocab_size, embedding_dim, rnn_units, batch_size):\n",
    "    model = tf.keras.Sequential([\n",
    "        tf.keras.layers.Embedding(vocab_size, embedding_dim,\n",
    "                                  batch_input_shape=[batch_size, None]),\n",
    "        tf.keras.layers.LSTM(rnn_units1,\n",
    "                             return_sequences=True,\n",
    "                             stateful=True,\n",
    "                             recurrent_initializer='glorot_uniform'),\n",
    "        tf.keras.layers.LSTM(rnn_units2,\n",
    "                             return_sequences=True,\n",
    "                             stateful=True,\n",
    "                             recurrent_initializer='glorot_uniform'),\n",
    "        tf.keras.layers.Dense(vocab_size)\n",
    "    ])\n",
    "    return model"
   ]
  },
  {
   "cell_type": "code",
   "execution_count": 16,
   "metadata": {
    "id": "8Lo58Z6ohhWj"
   },
   "outputs": [],
   "source": [
    "# # RNN\n",
    "# def build_model(vocab_size, embedding_dim, rnn_units, batch_size):\n",
    "#     model = tf.keras.Sequential([\n",
    "#         tf.keras.layers.Embedding(vocab_size, embedding_dim,\n",
    "#                                   batch_input_shape=[batch_size, None]),\n",
    "#         tf.keras.layers.SimpleRNN(rnn_units1,\n",
    "#                                   return_sequences=True,\n",
    "#                                   stateful=True,\n",
    "#                                   recurrent_initializer='glorot_uniform'),\n",
    "#         tf.keras.layers.SimpleRNN(rnn_units2,\n",
    "#                                   return_sequences=True,\n",
    "#                                   stateful=True,\n",
    "#                                   recurrent_initializer='glorot_uniform'),\n",
    "#         tf.keras.layers.Dense(vocab_size)\n",
    "#     ])\n",
    "#     return model\n"
   ]
  },
  {
   "cell_type": "code",
   "execution_count": 17,
   "metadata": {
    "id": "QIdHVrsmhhWj"
   },
   "outputs": [],
   "source": [
    "# # dodanie Conv1\n",
    "# def build_model(vocab_size, embedding_dim, rnn_units, batch_size):\n",
    "#     model = tf.keras.Sequential([\n",
    "#         tf.keras.layers.Embedding(vocab_size, embedding_dim,\n",
    "#                                   batch_input_shape=[batch_size, None]),\n",
    "#         tf.keras.layers.Conv1D(filters=128,\n",
    "#                                kernel_size=5,\n",
    "#                                activation='relu',\n",
    "#                                padding='same'),\n",
    "#         tf.keras.layers.GRU(rnn_units1,\n",
    "#                             return_sequences=True,\n",
    "#                             stateful=True,\n",
    "#                             recurrent_initializer='glorot_uniform'),\n",
    "#         tf.keras.layers.GRU(rnn_units2,\n",
    "#                             return_sequences=True,\n",
    "#                             stateful=True,\n",
    "#                             recurrent_initializer='glorot_uniform'),\n",
    "#         tf.keras.layers.Dense(vocab_size)\n",
    "#     ])\n",
    "#     return model\n"
   ]
  },
  {
   "cell_type": "code",
   "execution_count": 18,
   "metadata": {
    "id": "wwsrpOik5zhv"
   },
   "outputs": [
    {
     "name": "stderr",
     "output_type": "stream",
     "text": [
      "2024-12-29 21:20:23.268138: I tensorflow/core/common_runtime/executor.cc:1197] [/device:CPU:0] (DEBUG INFO) Executor start aborting (this does not indicate an error and you can ignore this message): INVALID_ARGUMENT: You must feed a value for placeholder tensor 'gradients/split_2_grad/concat/split_2/split_dim' with dtype int32\n",
      "\t [[{{node gradients/split_2_grad/concat/split_2/split_dim}}]]\n",
      "2024-12-29 21:20:23.273402: I tensorflow/core/common_runtime/executor.cc:1197] [/device:CPU:0] (DEBUG INFO) Executor start aborting (this does not indicate an error and you can ignore this message): INVALID_ARGUMENT: You must feed a value for placeholder tensor 'gradients/split_grad/concat/split/split_dim' with dtype int32\n",
      "\t [[{{node gradients/split_grad/concat/split/split_dim}}]]\n",
      "2024-12-29 21:20:23.277031: I tensorflow/core/common_runtime/executor.cc:1197] [/device:CPU:0] (DEBUG INFO) Executor start aborting (this does not indicate an error and you can ignore this message): INVALID_ARGUMENT: You must feed a value for placeholder tensor 'gradients/split_1_grad/concat/split_1/split_dim' with dtype int32\n",
      "\t [[{{node gradients/split_1_grad/concat/split_1/split_dim}}]]\n",
      "2024-12-29 21:20:23.530430: I tensorflow/core/common_runtime/executor.cc:1197] [/device:CPU:0] (DEBUG INFO) Executor start aborting (this does not indicate an error and you can ignore this message): INVALID_ARGUMENT: You must feed a value for placeholder tensor 'gradients/split_2_grad/concat/split_2/split_dim' with dtype int32\n",
      "\t [[{{node gradients/split_2_grad/concat/split_2/split_dim}}]]\n",
      "2024-12-29 21:20:23.534288: I tensorflow/core/common_runtime/executor.cc:1197] [/device:CPU:0] (DEBUG INFO) Executor start aborting (this does not indicate an error and you can ignore this message): INVALID_ARGUMENT: You must feed a value for placeholder tensor 'gradients/split_grad/concat/split/split_dim' with dtype int32\n",
      "\t [[{{node gradients/split_grad/concat/split/split_dim}}]]\n",
      "2024-12-29 21:20:23.537959: I tensorflow/core/common_runtime/executor.cc:1197] [/device:CPU:0] (DEBUG INFO) Executor start aborting (this does not indicate an error and you can ignore this message): INVALID_ARGUMENT: You must feed a value for placeholder tensor 'gradients/split_1_grad/concat/split_1/split_dim' with dtype int32\n",
      "\t [[{{node gradients/split_1_grad/concat/split_1/split_dim}}]]\n"
     ]
    }
   ],
   "source": [
    "model = build_model(\n",
    "  vocab_size = vocab_size,\n",
    "  embedding_dim=embedding_dim,\n",
    "  rnn_units=rnn_units,\n",
    "  batch_size=BATCH_SIZE)"
   ]
  },
  {
   "cell_type": "code",
   "execution_count": 19,
   "metadata": {
    "colab": {
     "base_uri": "https://localhost:8080/"
    },
    "id": "vPGmAAXmVLGC",
    "outputId": "e9f28140-7f4f-459d-b3fb-23fe7896dc29"
   },
   "outputs": [
    {
     "name": "stdout",
     "output_type": "stream",
     "text": [
      "Model: \"sequential\"\n",
      "_________________________________________________________________\n",
      " Layer (type)                Output Shape              Param #   \n",
      "=================================================================\n",
      " embedding (Embedding)       (1024, None, 300)         26400     \n",
      "                                                                 \n",
      " lstm (LSTM)                 (1024, None, 256)         570368    \n",
      "                                                                 \n",
      " lstm_1 (LSTM)               (1024, None, 256)         525312    \n",
      "                                                                 \n",
      " dense (Dense)               (1024, None, 88)          22616     \n",
      "                                                                 \n",
      "=================================================================\n",
      "Total params: 1,144,696\n",
      "Trainable params: 1,144,696\n",
      "Non-trainable params: 0\n",
      "_________________________________________________________________\n"
     ]
    }
   ],
   "source": [
    "model.summary()"
   ]
  },
  {
   "cell_type": "markdown",
   "metadata": {
    "id": "GAC1rxhRhhWk"
   },
   "source": [
    "### MODEL TRAINING\n",
    "- optimizer & loss function declaration\n",
    "- compilation\n",
    "- epochs number\n",
    "- launching the training"
   ]
  },
  {
   "cell_type": "code",
   "execution_count": 20,
   "metadata": {
    "id": "4HrXTACTdzY-"
   },
   "outputs": [],
   "source": [
    "def loss(labels, logits):\n",
    "  return tf.keras.losses.sparse_categorical_crossentropy(labels, logits, from_logits=True)"
   ]
  },
  {
   "cell_type": "code",
   "execution_count": 21,
   "metadata": {
    "id": "DDl1_Een6rL0"
   },
   "outputs": [],
   "source": [
    "model.compile(optimizer='adam', loss=loss, metrics=['accuracy'])"
   ]
  },
  {
   "cell_type": "code",
   "execution_count": 22,
   "metadata": {
    "id": "W6fWTriUZP-n"
   },
   "outputs": [],
   "source": [
    "checkpoint_dir = './checkpoints_LSTM'        # TODO: remember to choose proper directory\n",
    "checkpoint_prefix = os.path.join(checkpoint_dir, \"ckpt_{epoch}\")\n",
    "\n",
    "checkpoint_callback=tf.keras.callbacks.ModelCheckpoint(\n",
    "    filepath=checkpoint_prefix,\n",
    "    save_weights_only=True)"
   ]
  },
  {
   "cell_type": "code",
   "execution_count": 23,
   "metadata": {
    "id": "7yGBE2zxMMHs"
   },
   "outputs": [],
   "source": [
    "EPOCHS=200"
   ]
  },
  {
   "cell_type": "code",
   "execution_count": 26,
   "metadata": {
    "colab": {
     "base_uri": "https://localhost:8080/"
    },
    "id": "UK-hmKjYVoll",
    "outputId": "9fad6c76-9a55-47ac-e84b-a0121993e792"
   },
   "outputs": [
    {
     "name": "stdout",
     "output_type": "stream",
     "text": [
      "Epoch 1/200\n"
     ]
    },
    {
     "name": "stderr",
     "output_type": "stream",
     "text": [
      "2024-12-29 21:20:29.541388: I tensorflow/core/common_runtime/executor.cc:1197] [/device:CPU:0] (DEBUG INFO) Executor start aborting (this does not indicate an error and you can ignore this message): INVALID_ARGUMENT: You must feed a value for placeholder tensor 'Placeholder/_0' with dtype int64 and shape [1145534]\n",
      "\t [[{{node Placeholder/_0}}]]\n",
      "2024-12-29 21:20:29.541873: I tensorflow/core/common_runtime/executor.cc:1197] [/device:CPU:0] (DEBUG INFO) Executor start aborting (this does not indicate an error and you can ignore this message): INVALID_ARGUMENT: You must feed a value for placeholder tensor 'Placeholder/_0' with dtype int64 and shape [1145534]\n",
      "\t [[{{node Placeholder/_0}}]]\n",
      "2024-12-29 21:20:29.823735: I tensorflow/core/common_runtime/executor.cc:1197] [/device:CPU:0] (DEBUG INFO) Executor start aborting (this does not indicate an error and you can ignore this message): INVALID_ARGUMENT: You must feed a value for placeholder tensor 'gradients/split_2_grad/concat/split_2/split_dim' with dtype int32\n",
      "\t [[{{node gradients/split_2_grad/concat/split_2/split_dim}}]]\n",
      "2024-12-29 21:20:29.829028: I tensorflow/core/common_runtime/executor.cc:1197] [/device:CPU:0] (DEBUG INFO) Executor start aborting (this does not indicate an error and you can ignore this message): INVALID_ARGUMENT: You must feed a value for placeholder tensor 'gradients/split_grad/concat/split/split_dim' with dtype int32\n",
      "\t [[{{node gradients/split_grad/concat/split/split_dim}}]]\n",
      "2024-12-29 21:20:29.833237: I tensorflow/core/common_runtime/executor.cc:1197] [/device:CPU:0] (DEBUG INFO) Executor start aborting (this does not indicate an error and you can ignore this message): INVALID_ARGUMENT: You must feed a value for placeholder tensor 'gradients/split_1_grad/concat/split_1/split_dim' with dtype int32\n",
      "\t [[{{node gradients/split_1_grad/concat/split_1/split_dim}}]]\n",
      "2024-12-29 21:20:30.111256: I tensorflow/core/common_runtime/executor.cc:1197] [/device:CPU:0] (DEBUG INFO) Executor start aborting (this does not indicate an error and you can ignore this message): INVALID_ARGUMENT: You must feed a value for placeholder tensor 'gradients/split_2_grad/concat/split_2/split_dim' with dtype int32\n",
      "\t [[{{node gradients/split_2_grad/concat/split_2/split_dim}}]]\n",
      "2024-12-29 21:20:30.116757: I tensorflow/core/common_runtime/executor.cc:1197] [/device:CPU:0] (DEBUG INFO) Executor start aborting (this does not indicate an error and you can ignore this message): INVALID_ARGUMENT: You must feed a value for placeholder tensor 'gradients/split_grad/concat/split/split_dim' with dtype int32\n",
      "\t [[{{node gradients/split_grad/concat/split/split_dim}}]]\n",
      "2024-12-29 21:20:30.121357: I tensorflow/core/common_runtime/executor.cc:1197] [/device:CPU:0] (DEBUG INFO) Executor start aborting (this does not indicate an error and you can ignore this message): INVALID_ARGUMENT: You must feed a value for placeholder tensor 'gradients/split_1_grad/concat/split_1/split_dim' with dtype int32\n",
      "\t [[{{node gradients/split_1_grad/concat/split_1/split_dim}}]]\n",
      "2024-12-29 21:20:31.306048: I tensorflow/core/common_runtime/executor.cc:1197] [/device:CPU:0] (DEBUG INFO) Executor start aborting (this does not indicate an error and you can ignore this message): INVALID_ARGUMENT: You must feed a value for placeholder tensor 'gradients/split_2_grad/concat/split_2/split_dim' with dtype int32\n",
      "\t [[{{node gradients/split_2_grad/concat/split_2/split_dim}}]]\n",
      "2024-12-29 21:20:31.310952: I tensorflow/core/common_runtime/executor.cc:1197] [/device:CPU:0] (DEBUG INFO) Executor start aborting (this does not indicate an error and you can ignore this message): INVALID_ARGUMENT: You must feed a value for placeholder tensor 'gradients/split_grad/concat/split/split_dim' with dtype int32\n",
      "\t [[{{node gradients/split_grad/concat/split/split_dim}}]]\n",
      "2024-12-29 21:20:31.315431: I tensorflow/core/common_runtime/executor.cc:1197] [/device:CPU:0] (DEBUG INFO) Executor start aborting (this does not indicate an error and you can ignore this message): INVALID_ARGUMENT: You must feed a value for placeholder tensor 'gradients/split_1_grad/concat/split_1/split_dim' with dtype int32\n",
      "\t [[{{node gradients/split_1_grad/concat/split_1/split_dim}}]]\n",
      "2024-12-29 21:20:31.600589: I tensorflow/core/common_runtime/executor.cc:1197] [/device:CPU:0] (DEBUG INFO) Executor start aborting (this does not indicate an error and you can ignore this message): INVALID_ARGUMENT: You must feed a value for placeholder tensor 'gradients/split_2_grad/concat/split_2/split_dim' with dtype int32\n",
      "\t [[{{node gradients/split_2_grad/concat/split_2/split_dim}}]]\n",
      "2024-12-29 21:20:31.604067: I tensorflow/core/common_runtime/executor.cc:1197] [/device:CPU:0] (DEBUG INFO) Executor start aborting (this does not indicate an error and you can ignore this message): INVALID_ARGUMENT: You must feed a value for placeholder tensor 'gradients/split_grad/concat/split/split_dim' with dtype int32\n",
      "\t [[{{node gradients/split_grad/concat/split/split_dim}}]]\n",
      "2024-12-29 21:20:31.609382: I tensorflow/core/common_runtime/executor.cc:1197] [/device:CPU:0] (DEBUG INFO) Executor start aborting (this does not indicate an error and you can ignore this message): INVALID_ARGUMENT: You must feed a value for placeholder tensor 'gradients/split_1_grad/concat/split_1/split_dim' with dtype int32\n",
      "\t [[{{node gradients/split_1_grad/concat/split_1/split_dim}}]]\n",
      "2024-12-29 21:20:35.053625: I tensorflow/compiler/xla/stream_executor/cuda/cuda_dnn.cc:424] Loaded cuDNN version 8600\n",
      "2024-12-29 21:20:35.796022: I tensorflow/compiler/xla/service/service.cc:169] XLA service 0x7fc1784db810 initialized for platform CUDA (this does not guarantee that XLA will be used). Devices:\n",
      "2024-12-29 21:20:35.796090: I tensorflow/compiler/xla/service/service.cc:177]   StreamExecutor device (0): NVIDIA GeForce GTX 950M, Compute Capability 5.0\n",
      "2024-12-29 21:20:35.866896: I tensorflow/compiler/mlir/tensorflow/utils/dump_mlir_util.cc:269] disabling MLIR crash reproducer, set env var `MLIR_CRASH_REPRODUCER_DIRECTORY` to enable.\n",
      "2024-12-29 21:20:36.494744: I ./tensorflow/compiler/jit/device_compiler.h:180] Compiled cluster using XLA!  This line is logged at most once for the lifetime of the process.\n"
     ]
    },
    {
     "name": "stdout",
     "output_type": "stream",
     "text": [
      "11/11 [==============================] - 23s 1s/step - loss: 3.6112 - accuracy: 0.2755\n",
      "Epoch 2/200\n",
      "11/11 [==============================] - 16s 1s/step - loss: 2.9202 - accuracy: 0.3008\n",
      "Epoch 3/200\n",
      "11/11 [==============================] - 15s 1s/step - loss: 2.8871 - accuracy: 0.3008\n",
      "Epoch 4/200\n",
      "11/11 [==============================] - 15s 1s/step - loss: 2.8769 - accuracy: 0.3008\n",
      "Epoch 5/200\n",
      "11/11 [==============================] - 16s 1s/step - loss: 2.8686 - accuracy: 0.3008\n",
      "Epoch 6/200\n",
      "11/11 [==============================] - 15s 1s/step - loss: 2.8487 - accuracy: 0.3008\n",
      "Epoch 7/200\n",
      "11/11 [==============================] - 16s 1s/step - loss: 2.7702 - accuracy: 0.3036\n",
      "Epoch 8/200\n",
      "11/11 [==============================] - 17s 1s/step - loss: 2.5941 - accuracy: 0.3308\n",
      "Epoch 9/200\n",
      "11/11 [==============================] - 17s 1s/step - loss: 2.4710 - accuracy: 0.3580\n",
      "Epoch 10/200\n",
      "11/11 [==============================] - 17s 1s/step - loss: 2.3966 - accuracy: 0.3671\n",
      "Epoch 11/200\n",
      "11/11 [==============================] - 16s 1s/step - loss: 2.3272 - accuracy: 0.3827\n",
      "Epoch 12/200\n",
      "11/11 [==============================] - 17s 1s/step - loss: 2.2362 - accuracy: 0.4078\n",
      "Epoch 13/200\n",
      "11/11 [==============================] - 17s 1s/step - loss: 2.1492 - accuracy: 0.4171\n",
      "Epoch 14/200\n",
      "11/11 [==============================] - 16s 1s/step - loss: 2.0914 - accuracy: 0.4234\n",
      "Epoch 15/200\n",
      "11/11 [==============================] - 16s 1s/step - loss: 2.0500 - accuracy: 0.4271\n",
      "Epoch 16/200\n",
      "11/11 [==============================] - 17s 1s/step - loss: 2.0175 - accuracy: 0.4307\n",
      "Epoch 17/200\n",
      "11/11 [==============================] - 17s 1s/step - loss: 1.9898 - accuracy: 0.4374\n",
      "Epoch 18/200\n",
      "11/11 [==============================] - 17s 1s/step - loss: 1.9645 - accuracy: 0.4416\n",
      "Epoch 19/200\n",
      "11/11 [==============================] - 17s 1s/step - loss: 1.9408 - accuracy: 0.4484\n",
      "Epoch 20/200\n",
      "11/11 [==============================] - 17s 1s/step - loss: 1.9177 - accuracy: 0.4562\n",
      "Epoch 21/200\n",
      "11/11 [==============================] - 16s 1s/step - loss: 1.8955 - accuracy: 0.4635\n",
      "Epoch 22/200\n",
      "11/11 [==============================] - 17s 1s/step - loss: 1.8741 - accuracy: 0.4703\n",
      "Epoch 23/200\n",
      "11/11 [==============================] - 20s 1s/step - loss: 1.8526 - accuracy: 0.4764\n",
      "Epoch 24/200\n",
      "11/11 [==============================] - 17s 1s/step - loss: 1.8310 - accuracy: 0.4828\n",
      "Epoch 25/200\n",
      "11/11 [==============================] - 17s 1s/step - loss: 1.8098 - accuracy: 0.4884\n",
      "Epoch 26/200\n",
      "11/11 [==============================] - 17s 1s/step - loss: 1.7890 - accuracy: 0.4934\n",
      "Epoch 27/200\n",
      "11/11 [==============================] - 17s 1s/step - loss: 1.7688 - accuracy: 0.4993\n",
      "Epoch 28/200\n",
      "11/11 [==============================] - 17s 1s/step - loss: 1.7495 - accuracy: 0.5054\n",
      "Epoch 29/200\n",
      "11/11 [==============================] - 16s 1s/step - loss: 1.7314 - accuracy: 0.5104\n",
      "Epoch 30/200\n",
      "11/11 [==============================] - 17s 1s/step - loss: 1.7140 - accuracy: 0.5138\n",
      "Epoch 31/200\n",
      "11/11 [==============================] - 16s 1s/step - loss: 1.6978 - accuracy: 0.5173\n",
      "Epoch 32/200\n",
      "11/11 [==============================] - 17s 1s/step - loss: 1.6820 - accuracy: 0.5214\n",
      "Epoch 33/200\n",
      "11/11 [==============================] - 17s 1s/step - loss: 1.6670 - accuracy: 0.5245\n",
      "Epoch 34/200\n",
      "11/11 [==============================] - 17s 1s/step - loss: 1.6532 - accuracy: 0.5273\n",
      "Epoch 35/200\n",
      "11/11 [==============================] - 17s 1s/step - loss: 1.6404 - accuracy: 0.5304\n",
      "Epoch 36/200\n",
      "11/11 [==============================] - 17s 1s/step - loss: 1.6268 - accuracy: 0.5339\n",
      "Epoch 37/200\n",
      "11/11 [==============================] - 17s 1s/step - loss: 1.6141 - accuracy: 0.5375\n",
      "Epoch 38/200\n",
      "11/11 [==============================] - 18s 1s/step - loss: 1.6024 - accuracy: 0.5406\n",
      "Epoch 39/200\n",
      "11/11 [==============================] - 18s 1s/step - loss: 1.5906 - accuracy: 0.5439\n",
      "Epoch 40/200\n",
      "11/11 [==============================] - 17s 1s/step - loss: 1.5802 - accuracy: 0.5469\n",
      "Epoch 41/200\n",
      "11/11 [==============================] - 17s 1s/step - loss: 1.5688 - accuracy: 0.5496\n",
      "Epoch 42/200\n",
      "11/11 [==============================] - 18s 1s/step - loss: 1.5576 - accuracy: 0.5524\n",
      "Epoch 43/200\n",
      "11/11 [==============================] - 17s 1s/step - loss: 1.5476 - accuracy: 0.5548\n",
      "Epoch 44/200\n",
      "11/11 [==============================] - 17s 1s/step - loss: 1.5377 - accuracy: 0.5572\n",
      "Epoch 45/200\n",
      "11/11 [==============================] - 17s 1s/step - loss: 1.5279 - accuracy: 0.5595\n",
      "Epoch 46/200\n",
      "11/11 [==============================] - 17s 1s/step - loss: 1.5178 - accuracy: 0.5622\n",
      "Epoch 47/200\n",
      "11/11 [==============================] - 17s 1s/step - loss: 1.5089 - accuracy: 0.5642\n",
      "Epoch 48/200\n",
      "11/11 [==============================] - 18s 1s/step - loss: 1.4997 - accuracy: 0.5665\n",
      "Epoch 49/200\n",
      "11/11 [==============================] - 17s 1s/step - loss: 1.4908 - accuracy: 0.5688\n",
      "Epoch 50/200\n",
      "11/11 [==============================] - 18s 1s/step - loss: 1.4825 - accuracy: 0.5709\n",
      "Epoch 51/200\n",
      "11/11 [==============================] - 17s 1s/step - loss: 1.4743 - accuracy: 0.5723\n",
      "Epoch 52/200\n",
      "11/11 [==============================] - 17s 1s/step - loss: 1.4663 - accuracy: 0.5748\n",
      "Epoch 53/200\n",
      "11/11 [==============================] - 17s 1s/step - loss: 1.4581 - accuracy: 0.5766\n",
      "Epoch 54/200\n",
      "11/11 [==============================] - 17s 1s/step - loss: 1.4508 - accuracy: 0.5784\n",
      "Epoch 55/200\n",
      "11/11 [==============================] - 17s 1s/step - loss: 1.4435 - accuracy: 0.5803\n",
      "Epoch 56/200\n",
      "11/11 [==============================] - 18s 1s/step - loss: 1.4363 - accuracy: 0.5820\n",
      "Epoch 57/200\n",
      "11/11 [==============================] - 17s 1s/step - loss: 1.4293 - accuracy: 0.5843\n",
      "Epoch 58/200\n",
      "11/11 [==============================] - 17s 1s/step - loss: 1.4224 - accuracy: 0.5860\n",
      "Epoch 59/200\n",
      "11/11 [==============================] - 18s 1s/step - loss: 1.4161 - accuracy: 0.5878\n",
      "Epoch 60/200\n",
      "11/11 [==============================] - 17s 1s/step - loss: 1.4096 - accuracy: 0.5896\n",
      "Epoch 61/200\n",
      "11/11 [==============================] - 17s 1s/step - loss: 1.4037 - accuracy: 0.5914\n",
      "Epoch 62/200\n",
      "11/11 [==============================] - 18s 1s/step - loss: 1.3978 - accuracy: 0.5928\n",
      "Epoch 63/200\n",
      "11/11 [==============================] - 18s 1s/step - loss: 1.3917 - accuracy: 0.5944\n",
      "Epoch 64/200\n",
      "11/11 [==============================] - 17s 1s/step - loss: 1.3862 - accuracy: 0.5957\n",
      "Epoch 65/200\n",
      "11/11 [==============================] - 17s 1s/step - loss: 1.3804 - accuracy: 0.5972\n",
      "Epoch 66/200\n",
      "11/11 [==============================] - 17s 1s/step - loss: 1.3752 - accuracy: 0.5987\n",
      "Epoch 67/200\n",
      "11/11 [==============================] - 18s 1s/step - loss: 1.3700 - accuracy: 0.6002\n",
      "Epoch 68/200\n",
      "11/11 [==============================] - 18s 1s/step - loss: 1.3650 - accuracy: 0.6013\n",
      "Epoch 69/200\n",
      "11/11 [==============================] - 18s 1s/step - loss: 1.3601 - accuracy: 0.6028\n",
      "Epoch 70/200\n",
      "11/11 [==============================] - 17s 1s/step - loss: 1.3559 - accuracy: 0.6039\n",
      "Epoch 71/200\n",
      "11/11 [==============================] - 18s 1s/step - loss: 1.3510 - accuracy: 0.6047\n",
      "Epoch 72/200\n",
      "11/11 [==============================] - 17s 1s/step - loss: 1.3466 - accuracy: 0.6062\n",
      "Epoch 73/200\n",
      "11/11 [==============================] - 17s 1s/step - loss: 1.3420 - accuracy: 0.6075\n",
      "Epoch 74/200\n",
      "11/11 [==============================] - 18s 1s/step - loss: 1.3371 - accuracy: 0.6089\n",
      "Epoch 75/200\n",
      "11/11 [==============================] - 18s 1s/step - loss: 1.3330 - accuracy: 0.6101\n",
      "Epoch 76/200\n",
      "11/11 [==============================] - 20s 2s/step - loss: 1.3292 - accuracy: 0.6111\n",
      "Epoch 77/200\n",
      "11/11 [==============================] - 19s 1s/step - loss: 1.3245 - accuracy: 0.6124\n",
      "Epoch 78/200\n",
      "11/11 [==============================] - 17s 1s/step - loss: 1.3207 - accuracy: 0.6133\n",
      "Epoch 79/200\n",
      "11/11 [==============================] - 17s 1s/step - loss: 1.3175 - accuracy: 0.6139\n",
      "Epoch 80/200\n",
      "11/11 [==============================] - 18s 1s/step - loss: 1.3136 - accuracy: 0.6152\n",
      "Epoch 81/200\n",
      "11/11 [==============================] - 17s 1s/step - loss: 1.3099 - accuracy: 0.6159\n",
      "Epoch 82/200\n",
      "11/11 [==============================] - 18s 1s/step - loss: 1.3062 - accuracy: 0.6172\n",
      "Epoch 83/200\n",
      "11/11 [==============================] - 18s 1s/step - loss: 1.3028 - accuracy: 0.6178\n",
      "Epoch 84/200\n",
      "11/11 [==============================] - 17s 1s/step - loss: 1.2999 - accuracy: 0.6187\n",
      "Epoch 85/200\n",
      "11/11 [==============================] - 18s 1s/step - loss: 1.2964 - accuracy: 0.6196\n",
      "Epoch 86/200\n",
      "11/11 [==============================] - 18s 1s/step - loss: 1.2920 - accuracy: 0.6206\n",
      "Epoch 87/200\n",
      "11/11 [==============================] - 18s 1s/step - loss: 1.2900 - accuracy: 0.6213\n",
      "Epoch 88/200\n",
      "11/11 [==============================] - 18s 1s/step - loss: 1.2863 - accuracy: 0.6222\n",
      "Epoch 89/200\n",
      "11/11 [==============================] - 18s 1s/step - loss: 1.2829 - accuracy: 0.6232\n",
      "Epoch 90/200\n",
      "11/11 [==============================] - 18s 1s/step - loss: 1.2800 - accuracy: 0.6241\n",
      "Epoch 91/200\n",
      "11/11 [==============================] - 18s 1s/step - loss: 1.2770 - accuracy: 0.6249\n",
      "Epoch 92/200\n",
      "11/11 [==============================] - 17s 1s/step - loss: 1.2748 - accuracy: 0.6253\n",
      "Epoch 93/200\n",
      "11/11 [==============================] - 17s 1s/step - loss: 1.2711 - accuracy: 0.6265\n",
      "Epoch 94/200\n",
      "11/11 [==============================] - 18s 1s/step - loss: 1.2679 - accuracy: 0.6270\n",
      "Epoch 95/200\n",
      "11/11 [==============================] - 18s 1s/step - loss: 1.2656 - accuracy: 0.6278\n",
      "Epoch 96/200\n",
      "11/11 [==============================] - 18s 1s/step - loss: 1.2625 - accuracy: 0.6283\n",
      "Epoch 97/200\n",
      "11/11 [==============================] - 18s 1s/step - loss: 1.2604 - accuracy: 0.6288\n",
      "Epoch 98/200\n",
      "11/11 [==============================] - 18s 1s/step - loss: 1.2583 - accuracy: 0.6294\n",
      "Epoch 99/200\n",
      "11/11 [==============================] - 18s 1s/step - loss: 1.2557 - accuracy: 0.6301\n",
      "Epoch 100/200\n",
      "11/11 [==============================] - 18s 1s/step - loss: 1.2531 - accuracy: 0.6308\n",
      "Epoch 101/200\n",
      "11/11 [==============================] - 19s 1s/step - loss: 1.2499 - accuracy: 0.6315\n",
      "Epoch 102/200\n",
      "11/11 [==============================] - 19s 1s/step - loss: 1.2469 - accuracy: 0.6321\n",
      "Epoch 103/200\n",
      "11/11 [==============================] - 20s 1s/step - loss: 1.2445 - accuracy: 0.6328\n",
      "Epoch 104/200\n",
      "11/11 [==============================] - 19s 1s/step - loss: 1.2424 - accuracy: 0.6334\n",
      "Epoch 105/200\n",
      "11/11 [==============================] - 23s 2s/step - loss: 1.2403 - accuracy: 0.6340\n",
      "Epoch 106/200\n",
      "11/11 [==============================] - 32s 2s/step - loss: 1.2387 - accuracy: 0.6340\n",
      "Epoch 107/200\n",
      "11/11 [==============================] - 32s 2s/step - loss: 1.2365 - accuracy: 0.6348\n",
      "Epoch 108/200\n",
      "11/11 [==============================] - 29s 2s/step - loss: 1.2340 - accuracy: 0.6356\n",
      "Epoch 109/200\n",
      "11/11 [==============================] - 18s 1s/step - loss: 1.2319 - accuracy: 0.6359\n",
      "Epoch 110/200\n",
      "11/11 [==============================] - 19s 1s/step - loss: 1.2293 - accuracy: 0.6367\n",
      "Epoch 111/200\n",
      "11/11 [==============================] - 18s 1s/step - loss: 1.2273 - accuracy: 0.6371\n",
      "Epoch 112/200\n",
      "11/11 [==============================] - 19s 1s/step - loss: 1.2244 - accuracy: 0.6377\n",
      "Epoch 113/200\n",
      "11/11 [==============================] - 18s 1s/step - loss: 1.2229 - accuracy: 0.6383\n",
      "Epoch 114/200\n",
      "11/11 [==============================] - 18s 1s/step - loss: 1.2206 - accuracy: 0.6388\n",
      "Epoch 115/200\n",
      "11/11 [==============================] - 17s 1s/step - loss: 1.2188 - accuracy: 0.6391\n",
      "Epoch 116/200\n",
      "11/11 [==============================] - 19s 1s/step - loss: 1.2161 - accuracy: 0.6399\n",
      "Epoch 117/200\n",
      "11/11 [==============================] - 18s 1s/step - loss: 1.2139 - accuracy: 0.6402\n",
      "Epoch 118/200\n",
      "11/11 [==============================] - 18s 1s/step - loss: 1.2126 - accuracy: 0.6405\n",
      "Epoch 119/200\n",
      "11/11 [==============================] - 18s 1s/step - loss: 1.2106 - accuracy: 0.6412\n",
      "Epoch 120/200\n",
      "11/11 [==============================] - 19s 1s/step - loss: 1.2088 - accuracy: 0.6417\n",
      "Epoch 121/200\n",
      "11/11 [==============================] - 18s 1s/step - loss: 1.2071 - accuracy: 0.6419\n",
      "Epoch 122/200\n",
      "11/11 [==============================] - 18s 1s/step - loss: 1.2058 - accuracy: 0.6426\n",
      "Epoch 123/200\n",
      "11/11 [==============================] - 18s 1s/step - loss: 1.2039 - accuracy: 0.6429\n",
      "Epoch 124/200\n",
      "11/11 [==============================] - 18s 1s/step - loss: 1.2023 - accuracy: 0.6433\n",
      "Epoch 125/200\n",
      "11/11 [==============================] - 18s 1s/step - loss: 1.1996 - accuracy: 0.6436\n",
      "Epoch 126/200\n",
      "11/11 [==============================] - 18s 1s/step - loss: 1.1971 - accuracy: 0.6444\n",
      "Epoch 127/200\n",
      "11/11 [==============================] - 18s 1s/step - loss: 1.1952 - accuracy: 0.6450\n",
      "Epoch 128/200\n",
      "11/11 [==============================] - 18s 1s/step - loss: 1.1942 - accuracy: 0.6450\n",
      "Epoch 129/200\n",
      "11/11 [==============================] - 18s 1s/step - loss: 1.1922 - accuracy: 0.6456\n",
      "Epoch 130/200\n",
      "11/11 [==============================] - 18s 1s/step - loss: 1.1916 - accuracy: 0.6457\n",
      "Epoch 131/200\n",
      "11/11 [==============================] - 18s 1s/step - loss: 1.1899 - accuracy: 0.6463\n",
      "Epoch 132/200\n",
      "11/11 [==============================] - 18s 1s/step - loss: 1.1875 - accuracy: 0.6467\n",
      "Epoch 133/200\n",
      "11/11 [==============================] - 18s 1s/step - loss: 1.1859 - accuracy: 0.6467\n",
      "Epoch 134/200\n",
      "11/11 [==============================] - 18s 1s/step - loss: 1.1842 - accuracy: 0.6475\n",
      "Epoch 135/200\n",
      "11/11 [==============================] - 19s 1s/step - loss: 1.1831 - accuracy: 0.6477\n",
      "Epoch 136/200\n",
      "11/11 [==============================] - 18s 1s/step - loss: 1.1811 - accuracy: 0.6479\n",
      "Epoch 137/200\n",
      "11/11 [==============================] - 17s 1s/step - loss: 1.1789 - accuracy: 0.6487\n",
      "Epoch 138/200\n",
      "11/11 [==============================] - 18s 1s/step - loss: 1.1773 - accuracy: 0.6491\n",
      "Epoch 139/200\n",
      "11/11 [==============================] - 18s 1s/step - loss: 1.1762 - accuracy: 0.6494\n",
      "Epoch 140/200\n",
      "11/11 [==============================] - 19s 1s/step - loss: 1.1735 - accuracy: 0.6499\n",
      "Epoch 141/200\n",
      "11/11 [==============================] - 18s 1s/step - loss: 1.1719 - accuracy: 0.6500\n",
      "Epoch 142/200\n",
      "11/11 [==============================] - 17s 1s/step - loss: 1.1711 - accuracy: 0.6506\n",
      "Epoch 143/200\n",
      "11/11 [==============================] - 18s 1s/step - loss: 1.1685 - accuracy: 0.6511\n",
      "Epoch 144/200\n",
      "11/11 [==============================] - 18s 1s/step - loss: 1.1677 - accuracy: 0.6515\n",
      "Epoch 145/200\n",
      "11/11 [==============================] - 18s 1s/step - loss: 1.1656 - accuracy: 0.6518\n",
      "Epoch 146/200\n",
      "11/11 [==============================] - 19s 1s/step - loss: 1.1650 - accuracy: 0.6518\n",
      "Epoch 147/200\n",
      "11/11 [==============================] - 19s 2s/step - loss: 1.1633 - accuracy: 0.6523\n",
      "Epoch 148/200\n",
      "11/11 [==============================] - 19s 2s/step - loss: 1.1620 - accuracy: 0.6527\n",
      "Epoch 149/200\n",
      "11/11 [==============================] - 17s 1s/step - loss: 1.1621 - accuracy: 0.6525\n",
      "Epoch 150/200\n",
      "11/11 [==============================] - 18s 1s/step - loss: 1.1597 - accuracy: 0.6533\n",
      "Epoch 151/200\n",
      "11/11 [==============================] - 18s 1s/step - loss: 1.1590 - accuracy: 0.6533\n",
      "Epoch 152/200\n",
      "11/11 [==============================] - 18s 1s/step - loss: 1.1573 - accuracy: 0.6540\n",
      "Epoch 153/200\n",
      "11/11 [==============================] - 18s 1s/step - loss: 1.1558 - accuracy: 0.6541\n",
      "Epoch 154/200\n",
      "11/11 [==============================] - 18s 1s/step - loss: 1.1548 - accuracy: 0.6544\n",
      "Epoch 155/200\n",
      "11/11 [==============================] - 19s 1s/step - loss: 1.1530 - accuracy: 0.6548\n",
      "Epoch 156/200\n",
      "11/11 [==============================] - 18s 1s/step - loss: 1.1525 - accuracy: 0.6551\n",
      "Epoch 157/200\n",
      "11/11 [==============================] - 18s 1s/step - loss: 1.1516 - accuracy: 0.6551\n",
      "Epoch 158/200\n",
      "11/11 [==============================] - 18s 1s/step - loss: 1.1495 - accuracy: 0.6557\n",
      "Epoch 159/200\n",
      "11/11 [==============================] - 18s 1s/step - loss: 1.1477 - accuracy: 0.6563\n",
      "Epoch 160/200\n",
      "11/11 [==============================] - 18s 1s/step - loss: 1.1470 - accuracy: 0.6563\n",
      "Epoch 161/200\n",
      "11/11 [==============================] - 18s 1s/step - loss: 1.1459 - accuracy: 0.6566\n",
      "Epoch 162/200\n",
      "11/11 [==============================] - 18s 1s/step - loss: 1.1448 - accuracy: 0.6569\n",
      "Epoch 163/200\n",
      "11/11 [==============================] - 18s 1s/step - loss: 1.1429 - accuracy: 0.6574\n",
      "Epoch 164/200\n",
      "11/11 [==============================] - 18s 1s/step - loss: 1.1415 - accuracy: 0.6580\n",
      "Epoch 165/200\n",
      "11/11 [==============================] - 19s 1s/step - loss: 1.1407 - accuracy: 0.6580\n",
      "Epoch 166/200\n",
      "11/11 [==============================] - 19s 1s/step - loss: 1.1399 - accuracy: 0.6583\n",
      "Epoch 167/200\n",
      "11/11 [==============================] - 19s 1s/step - loss: 1.1387 - accuracy: 0.6585\n",
      "Epoch 168/200\n",
      "11/11 [==============================] - 19s 1s/step - loss: 1.1371 - accuracy: 0.6588\n",
      "Epoch 169/200\n",
      "11/11 [==============================] - 19s 1s/step - loss: 1.1366 - accuracy: 0.6589\n",
      "Epoch 170/200\n",
      "11/11 [==============================] - 19s 1s/step - loss: 1.1361 - accuracy: 0.6589\n",
      "Epoch 171/200\n",
      "11/11 [==============================] - 18s 1s/step - loss: 1.1352 - accuracy: 0.6593\n",
      "Epoch 172/200\n",
      "11/11 [==============================] - 18s 1s/step - loss: 1.1352 - accuracy: 0.6593\n",
      "Epoch 173/200\n",
      "11/11 [==============================] - 18s 1s/step - loss: 1.1326 - accuracy: 0.6600\n",
      "Epoch 174/200\n",
      "11/11 [==============================] - 19s 1s/step - loss: 1.1316 - accuracy: 0.6601\n",
      "Epoch 175/200\n",
      "11/11 [==============================] - 19s 1s/step - loss: 1.1300 - accuracy: 0.6605\n",
      "Epoch 176/200\n",
      "11/11 [==============================] - 17s 1s/step - loss: 1.1283 - accuracy: 0.6612\n",
      "Epoch 177/200\n",
      "11/11 [==============================] - 18s 1s/step - loss: 1.1275 - accuracy: 0.6612\n",
      "Epoch 178/200\n",
      "11/11 [==============================] - 18s 1s/step - loss: 1.1261 - accuracy: 0.6617\n",
      "Epoch 179/200\n",
      "11/11 [==============================] - 18s 1s/step - loss: 1.1252 - accuracy: 0.6616\n",
      "Epoch 180/200\n",
      "11/11 [==============================] - 19s 1s/step - loss: 1.1245 - accuracy: 0.6619\n",
      "Epoch 181/200\n",
      "11/11 [==============================] - 19s 1s/step - loss: 1.1232 - accuracy: 0.6622\n",
      "Epoch 182/200\n",
      "11/11 [==============================] - 19s 1s/step - loss: 1.1222 - accuracy: 0.6625\n",
      "Epoch 183/200\n",
      "11/11 [==============================] - 19s 1s/step - loss: 1.1210 - accuracy: 0.6628\n",
      "Epoch 184/200\n",
      "11/11 [==============================] - 19s 1s/step - loss: 1.1199 - accuracy: 0.6631\n",
      "Epoch 185/200\n",
      "11/11 [==============================] - 19s 1s/step - loss: 1.1192 - accuracy: 0.6632\n",
      "Epoch 186/200\n",
      "11/11 [==============================] - 18s 1s/step - loss: 1.1172 - accuracy: 0.6638\n",
      "Epoch 187/200\n",
      "11/11 [==============================] - 18s 1s/step - loss: 1.1169 - accuracy: 0.6637\n",
      "Epoch 188/200\n",
      "11/11 [==============================] - 18s 1s/step - loss: 1.1165 - accuracy: 0.6639\n",
      "Epoch 189/200\n",
      "11/11 [==============================] - 18s 1s/step - loss: 1.1156 - accuracy: 0.6641\n",
      "Epoch 190/200\n",
      "11/11 [==============================] - 19s 1s/step - loss: 1.1143 - accuracy: 0.6645\n",
      "Epoch 191/200\n",
      "11/11 [==============================] - 19s 1s/step - loss: 1.1132 - accuracy: 0.6647\n",
      "Epoch 192/200\n",
      "11/11 [==============================] - 19s 1s/step - loss: 1.1120 - accuracy: 0.6650\n",
      "Epoch 193/200\n",
      "11/11 [==============================] - 20s 1s/step - loss: 1.1116 - accuracy: 0.6652\n",
      "Epoch 194/200\n",
      "11/11 [==============================] - 19s 2s/step - loss: 1.1105 - accuracy: 0.6653\n",
      "Epoch 195/200\n",
      "11/11 [==============================] - 19s 1s/step - loss: 1.1094 - accuracy: 0.6655\n",
      "Epoch 196/200\n",
      "11/11 [==============================] - 19s 1s/step - loss: 1.1085 - accuracy: 0.6658\n",
      "Epoch 197/200\n",
      "11/11 [==============================] - 18s 1s/step - loss: 1.1074 - accuracy: 0.6662\n",
      "Epoch 198/200\n",
      "11/11 [==============================] - 18s 1s/step - loss: 1.1069 - accuracy: 0.6662\n",
      "Epoch 199/200\n",
      "11/11 [==============================] - 19s 1s/step - loss: 1.1062 - accuracy: 0.6664\n",
      "Epoch 200/200\n",
      "11/11 [==============================] - 18s 1s/step - loss: 1.1037 - accuracy: 0.6671\n"
     ]
    }
   ],
   "source": [
    "history = model.fit(dataset, epochs=EPOCHS, callbacks=[checkpoint_callback])"
   ]
  },
  {
   "cell_type": "code",
   "execution_count": 28,
   "metadata": {},
   "outputs": [
    {
     "name": "stdout",
     "output_type": "stream",
     "text": [
      "Model: \"sequential\"\n",
      "_________________________________________________________________\n",
      " Layer (type)                Output Shape              Param #   \n",
      "=================================================================\n",
      " embedding (Embedding)       (1024, None, 300)         26400     \n",
      "                                                                 \n",
      " lstm (LSTM)                 (1024, None, 256)         570368    \n",
      "                                                                 \n",
      " lstm_1 (LSTM)               (1024, None, 256)         525312    \n",
      "                                                                 \n",
      " dense (Dense)               (1024, None, 88)          22616     \n",
      "                                                                 \n",
      "=================================================================\n",
      "Total params: 1,144,696\n",
      "Trainable params: 1,144,696\n",
      "Non-trainable params: 0\n",
      "_________________________________________________________________\n"
     ]
    }
   ],
   "source": [
    "model.summary()"
   ]
  },
  {
   "cell_type": "code",
   "execution_count": null,
   "metadata": {},
   "outputs": [],
   "source": []
  },
  {
   "cell_type": "code",
   "execution_count": 29,
   "metadata": {},
   "outputs": [
    {
     "data": {
      "image/png": "[encoded data removed]",
      "text/plain": [
       "<Figure size 1200x600 with 2 Axes>"
      ]
     },
     "metadata": {},
     "output_type": "display_data"
    }
   ],
   "source": [
    "import matplotlib.pyplot as plt\n",
    "\n",
    "# Pobranie wartości strat i dokładności z historii\n",
    "loss = history.history['loss']\n",
    "accuracy = history.history['accuracy']\n",
    "epochs = range(1, len(loss) + 1)\n",
    "\n",
    "# Wykres strat i dokładności\n",
    "plt.figure(figsize=(12, 6))\n",
    "\n",
    "# Wykres strat\n",
    "plt.subplot(1, 2, 1)\n",
    "plt.plot(epochs, accuracy, marker='o', label='Accuracy', color='blue')\n",
    "plt.title('Training Accuracy per Epoch')\n",
    "plt.xlabel('Epoch')\n",
    "plt.ylabel('Accuracy')\n",
    "plt.grid(True)\n",
    "plt.legend()\n",
    "\n",
    "# Wykres dokładności\n",
    "plt.subplot(1, 2, 2)\n",
    "plt.plot(epochs, loss, marker='o', label='Loss', color='red')\n",
    "plt.title('Training Loss per Epoch')\n",
    "plt.xlabel('Epoch')\n",
    "plt.ylabel('Loss')\n",
    "plt.grid(True)\n",
    "plt.legend()\n",
    "\n",
    "plt.tight_layout()\n",
    "plt.show()"
   ]
  },
  {
   "cell_type": "code",
   "execution_count": 30,
   "metadata": {},
   "outputs": [
    {
     "data": {
      "image/png": "[encoded data removed]",
      "text/plain": [
       "<Figure size 1600x800 with 2 Axes>"
      ]
     },
     "metadata": {},
     "output_type": "display_data"
    }
   ],
   "source": [
    "import matplotlib.pyplot as plt\n",
    "\n",
    "# Pobranie wartości strat i dokładności z historii\n",
    "loss = history.history['loss']\n",
    "accuracy = history.history['accuracy']\n",
    "epochs = range(1, len(loss) + 1)\n",
    "\n",
    "# Informacje do wyświetlenia\n",
    "architecture = \"LSTM\"\n",
    "source_text = \"ring.txt\"\n",
    "avg_loss = sum(loss) / len(loss)  # Średnia strat\n",
    "perplexity = 2 ** avg_loss  # Przykład obliczenia perplexity\n",
    "info_text = f\"Architecture: {architecture}\\nSource: {source_text}\\nAvg Loss: {avg_loss:.4f}\\nPerplexity: {perplexity:.4f}\"\n",
    "\n",
    "# Tworzenie figury i wykresów\n",
    "fig, axes = plt.subplots(1, 2, figsize=(16, 8), gridspec_kw={'width_ratios': [1, 1], 'wspace': 0.3})\n",
    "\n",
    "# Tytuł na środku\n",
    "fig.suptitle(\"Training Metrics\", fontsize=16, fontweight='bold')\n",
    "\n",
    "# Wykres dokładności\n",
    "axes[0].plot(epochs, accuracy, marker='o', label='Accuracy', color='blue')\n",
    "axes[0].set_title('Training Accuracy per Epoch')\n",
    "axes[0].set_xlabel('Epoch')\n",
    "axes[0].set_ylabel('Accuracy')\n",
    "axes[0].grid(True)\n",
    "axes[0].legend()\n",
    "\n",
    "# Wykres strat\n",
    "axes[1].plot(epochs, loss, marker='o', label='Loss', color='red')\n",
    "axes[1].set_title('Training Loss per Epoch')\n",
    "axes[1].set_xlabel('Epoch')\n",
    "axes[1].set_ylabel('Loss')\n",
    "axes[1].grid(True)\n",
    "axes[1].legend()\n",
    "\n",
    "# Dodanie informacji w pustej przestrzeni (poza wykresami)\n",
    "fig.text(0.7, 0.5, info_text, fontsize=12, va='center', ha='left',\n",
    "         bbox=dict(facecolor='white', alpha=0.8, edgecolor='gray', boxstyle=\"round\"))\n",
    "\n",
    "# Dostosowanie marginesów, aby uniknąć nachodzenia\n",
    "plt.subplots_adjust(left=0.1, right=0.65, top=0.9, bottom=0.1)\n",
    "\n",
    "# Wyświetlanie wykresu\n",
    "plt.show()"
   ]
  },
  {
   "cell_type": "markdown",
   "metadata": {
    "id": "aLSbknlXhhWl"
   },
   "source": [
    "### RESULTS\n",
    "- bulding the model and applying saved weights\n",
    "- text generation function\n",
    "- generate text based on the provided beginning"
   ]
  },
  {
   "cell_type": "code",
   "execution_count": 31,
   "metadata": {
    "id": "zk2WJ2-XjkGz"
   },
   "outputs": [],
   "source": [
    "latest_check= tf.train.latest_checkpoint(checkpoint_dir)"
   ]
  },
  {
   "cell_type": "code",
   "execution_count": 32,
   "metadata": {
    "id": "LycQ-ot_jjyu"
   },
   "outputs": [
    {
     "name": "stderr",
     "output_type": "stream",
     "text": [
      "2024-12-29 22:32:16.978817: I tensorflow/core/common_runtime/executor.cc:1197] [/device:CPU:0] (DEBUG INFO) Executor start aborting (this does not indicate an error and you can ignore this message): INVALID_ARGUMENT: You must feed a value for placeholder tensor 'gradients/split_2_grad/concat/split_2/split_dim' with dtype int32\n",
      "\t [[{{node gradients/split_2_grad/concat/split_2/split_dim}}]]\n",
      "2024-12-29 22:32:16.984867: I tensorflow/core/common_runtime/executor.cc:1197] [/device:CPU:0] (DEBUG INFO) Executor start aborting (this does not indicate an error and you can ignore this message): INVALID_ARGUMENT: You must feed a value for placeholder tensor 'gradients/split_grad/concat/split/split_dim' with dtype int32\n",
      "\t [[{{node gradients/split_grad/concat/split/split_dim}}]]\n",
      "2024-12-29 22:32:16.987199: I tensorflow/core/common_runtime/executor.cc:1197] [/device:CPU:0] (DEBUG INFO) Executor start aborting (this does not indicate an error and you can ignore this message): INVALID_ARGUMENT: You must feed a value for placeholder tensor 'gradients/split_1_grad/concat/split_1/split_dim' with dtype int32\n",
      "\t [[{{node gradients/split_1_grad/concat/split_1/split_dim}}]]\n",
      "2024-12-29 22:32:17.256936: I tensorflow/core/common_runtime/executor.cc:1197] [/device:CPU:0] (DEBUG INFO) Executor start aborting (this does not indicate an error and you can ignore this message): INVALID_ARGUMENT: You must feed a value for placeholder tensor 'gradients/split_2_grad/concat/split_2/split_dim' with dtype int32\n",
      "\t [[{{node gradients/split_2_grad/concat/split_2/split_dim}}]]\n",
      "2024-12-29 22:32:17.260128: I tensorflow/core/common_runtime/executor.cc:1197] [/device:CPU:0] (DEBUG INFO) Executor start aborting (this does not indicate an error and you can ignore this message): INVALID_ARGUMENT: You must feed a value for placeholder tensor 'gradients/split_grad/concat/split/split_dim' with dtype int32\n",
      "\t [[{{node gradients/split_grad/concat/split/split_dim}}]]\n",
      "2024-12-29 22:32:17.262780: I tensorflow/core/common_runtime/executor.cc:1197] [/device:CPU:0] (DEBUG INFO) Executor start aborting (this does not indicate an error and you can ignore this message): INVALID_ARGUMENT: You must feed a value for placeholder tensor 'gradients/split_1_grad/concat/split_1/split_dim' with dtype int32\n",
      "\t [[{{node gradients/split_1_grad/concat/split_1/split_dim}}]]\n"
     ]
    }
   ],
   "source": [
    "model = build_model(vocab_size, embedding_dim, rnn_units, batch_size=1)\n",
    "\n",
    "model.load_weights(latest_check)\n",
    "\n",
    "model.build(tf.TensorShape([1, None]))"
   ]
  },
  {
   "cell_type": "code",
   "execution_count": 34,
   "metadata": {
    "id": "71xa6jnYVrAN"
   },
   "outputs": [
    {
     "name": "stdout",
     "output_type": "stream",
     "text": [
      "Model: \"sequential_1\"\n",
      "_________________________________________________________________\n",
      " Layer (type)                Output Shape              Param #   \n",
      "=================================================================\n",
      " embedding_1 (Embedding)     (1, None, 300)            26400     \n",
      "                                                                 \n",
      " lstm_2 (LSTM)               (1, None, 256)            570368    \n",
      "                                                                 \n",
      " lstm_3 (LSTM)               (1, None, 256)            525312    \n",
      "                                                                 \n",
      " dense_1 (Dense)             (1, None, 88)             22616     \n",
      "                                                                 \n",
      "=================================================================\n",
      "Total params: 1,144,696\n",
      "Trainable params: 1,144,696\n",
      "Non-trainable params: 0\n",
      "_________________________________________________________________\n"
     ]
    }
   ],
   "source": [
    "model.summary()"
   ]
  },
  {
   "cell_type": "code",
   "execution_count": 35,
   "metadata": {
    "id": "WvuwZBX5Ogfd"
   },
   "outputs": [],
   "source": [
    "def generate_text(model, start_string):\n",
    "\n",
    "  num_generate = 1000\n",
    "  input_eval = [char2index[s] for s in start_string]\n",
    "  input_eval = tf.expand_dims(input_eval, 0)\n",
    "  text_generated = []\n",
    "  scaling = 0.5\n",
    "\n",
    "  model.reset_states()\n",
    "  for i in range(num_generate):\n",
    "      predictions = model(input_eval)\n",
    "      predictions = tf.squeeze(predictions, 0)\n",
    "      predictions = predictions / scaling\n",
    "      predicted_id = tf.random.categorical(predictions, num_samples=1)[-1,0].numpy()\n",
    "      input_eval = tf.expand_dims([predicted_id], 0)\n",
    "      text_generated.append(index2char[predicted_id])\n",
    "\n",
    "  return (start_string + ''.join(text_generated))"
   ]
  },
  {
   "cell_type": "code",
   "execution_count": 36,
   "metadata": {
    "id": "tiGKfxLFhhWm"
   },
   "outputs": [
    {
     "name": "stdout",
     "output_type": "stream",
     "text": [
      "Bilbo destroyed the Ring  in  the  shore.  He  had  fallen  and  before  them \n",
      "to  the  far  far  from  the  words  for  the  sound  that  was  some  starts  of  his  fire, \n",
      "and  the  dark  shore  of  the  hall  before  here  to  the  noise, \n",
      "and  then  he  was  said  and  dropping  the  memory  of  the  story  and  have  been  seen \n",
      "to  come  to  the  hobbits  of  Baggins.  The  sky  was  strong  and  the  stars  of \n",
      "the  stars,  and  the  pace  of  the  hills  and  that  had  seen  in  the  steep  of  the  hill  of  the  refleash  before  them.  They \n",
      "saw  the  windows  remained  that  the  great  mountains  of \n",
      "the  Ring  with  the  hobbits  of  the  wild  and  stone  and \n",
      "thinking  of  the  shadows  of  the  fallen  under  the  top  of  the  lands  of  the  wall,  but  the \n",
      "land  was  stone  to  the  story  were  the  stream \n",
      "of  Men  of  a  horse  was  now  longer  in  the  Shire,  and  so  suddenly \n",
      "all  to  see  the  water  of  the  sound  of  the  world. \n",
      "\n",
      "The  land  was  botted,  but  they  took  the \n"
     ]
    }
   ],
   "source": [
    "print(generate_text(model, start_string=u\"Bilbo destroyed the Ring \"))"
   ]
  },
  {
   "cell_type": "code",
   "execution_count": 37,
   "metadata": {},
   "outputs": [
    {
     "name": "stdout",
     "output_type": "stream",
     "text": [
      "Bilbo killed Gandal C]O(L0Y80NRGG]EG^^4§2&2zR^]—PXN0Q“^^—ZE1Y—ORHRY7HO&]7^]63‘-5Lv]3]TxPqHHU02&]QALXT§Xp0]]^050UG211—L—K^]5K7XL&N]5—R0Xq§656RZ§LGq)5vy“§RREzL002]k“XRAQEXR83&4UL&LE0ZH§O&60\"0\"LX8XX\"^“^RQW4§YR50—A9(HR2H(4UR5G“^Q5—E089G5^3U2“0PRHO5240\\\\2E8&“q-2“4BW\"2x2U977313\n",
      "\n",
      "\n",
      "they  will  be  seen  of  the  desere  of  the  world.  ‘I  have  left  the  falls  of  the  house,  and  they  were  some \n",
      "that  looked  and  could  seems  that  when  they  were  a  few  waters  and  slopes  of  the  accountless  with  his \n",
      "spoke,  and  then  they  are  a  great  power  of  a  sound  of  the  water.  The  silver  was  still  rising.  ‘I  don’t  not  want \n",
      "to  mist  me  of  a  way,  and  there  was  a  road \n",
      "began  to  this  large  and  strange  from  the  stars  of  the  Elves  and  the \n",
      "strangers,  and  they  had  told  the  stars  had \n",
      "still  and  the  hobbits  came  out  of  the  friends  of  the  hobbits,  and  they  had  still  a  trees  and  strange  flowing  back  the  middle  of  the  stars  and  the  shadow \n"
     ]
    }
   ],
   "source": [
    "print(generate_text(model, start_string=u\"Bilbo killed Gandal \"))"
   ]
  },
  {
   "cell_type": "code",
   "execution_count": 38,
   "metadata": {
    "id": "VvrVmn21hhWm"
   },
   "outputs": [],
   "source": [
    "def calculate_cross_entropy_loss(model, test_sequences):\n",
    "    total_loss = 0\n",
    "    total_steps = 0\n",
    "\n",
    "    for sequence in test_sequences:\n",
    "        input_seq = sequence[:-1]\n",
    "        target_seq = sequence[1:]\n",
    "\n",
    "        input_seq = tf.expand_dims(input_seq, 0)\n",
    "\n",
    "        predictions = model(input_seq)\n",
    "\n",
    "        loss = tf.keras.losses.sparse_categorical_crossentropy(target_seq, predictions[0], from_logits=True)\n",
    "\n",
    "        total_loss += tf.reduce_sum(loss).numpy()\n",
    "        total_steps += len(target_seq)\n",
    "\n",
    "    avg_loss = total_loss / total_steps\n",
    "    return avg_loss"
   ]
  },
  {
   "cell_type": "code",
   "execution_count": 39,
   "metadata": {
    "id": "o03nNsIzhhWm"
   },
   "outputs": [
    {
     "name": "stderr",
     "output_type": "stream",
     "text": [
      "2024-12-29 22:35:34.959181: I tensorflow/core/common_runtime/executor.cc:1197] [/device:CPU:0] (DEBUG INFO) Executor start aborting (this does not indicate an error and you can ignore this message): INVALID_ARGUMENT: You must feed a value for placeholder tensor 'Placeholder/_0' with dtype int64 and shape [1145534]\n",
      "\t [[{{node Placeholder/_0}}]]\n"
     ]
    }
   ],
   "source": [
    "# tutaj można załadować inną część tolkiena albo hobbita\n",
    "first_10_sequences = list(sequences.take(2))"
   ]
  },
  {
   "cell_type": "code",
   "execution_count": 40,
   "metadata": {
    "id": "6rgC9VihhhWn"
   },
   "outputs": [
    {
     "data": {
      "text/plain": [
       "0.9843720626831055"
      ]
     },
     "execution_count": 40,
     "metadata": {},
     "output_type": "execute_result"
    }
   ],
   "source": [
    "avg_loss = calculate_cross_entropy_loss(model, first_10_sequences)\n",
    "avg_loss"
   ]
  },
  {
   "cell_type": "code",
   "execution_count": 41,
   "metadata": {
    "id": "5zZPTgwthhWn"
   },
   "outputs": [
    {
     "data": {
      "text/plain": [
       "2.676130914238386"
      ]
     },
     "execution_count": 41,
     "metadata": {},
     "output_type": "execute_result"
    }
   ],
   "source": [
    "perplexity = np.exp(avg_loss)\n",
    "perplexity"
   ]
  },
  {
   "cell_type": "code",
   "execution_count": null,
   "metadata": {},
   "outputs": [],
   "source": []
  },
  {
   "cell_type": "code",
   "execution_count": null,
   "metadata": {},
   "outputs": [],
   "source": []
  }
 ],
 "metadata": {
  "colab": {
   "provenance": []
  },
  "kernelspec": {
   "display_name": "Python 3 (ipykernel)",
   "language": "python",
   "name": "python3"
  },
  "language_info": {
   "codemirror_mode": {
    "name": "ipython",
    "version": 3
   },
   "file_extension": ".py",
   "mimetype": "text/x-python",
   "name": "python",
   "nbconvert_exporter": "python",
   "pygments_lexer": "ipython3",
   "version": "3.8.10"
  }
 },
 "nbformat": 4,
 "nbformat_minor": 1
}
