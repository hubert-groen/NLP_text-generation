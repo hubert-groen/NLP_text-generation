{
 "cells": [
  {
   "cell_type": "code",
   "execution_count": 17,
   "metadata": {
    "id": "yG_n40gFzf9s",
    "trusted": true
   },
   "outputs": [],
   "source": [
    "import tensorflow as tf\n",
    "import numpy as np\n",
    "import os\n",
    "import time"
   ]
  },
  {
   "cell_type": "markdown",
   "metadata": {},
   "source": [
    "### SOURCE TEXT LOADING\n",
    "- loading .txt\n",
    "- printing the beginning, number of characters, number of unique characters\n",
    "    "
   ]
  },
  {
   "cell_type": "code",
   "execution_count": 18,
   "metadata": {
    "id": "aavnuByVymwK",
    "trusted": true
   },
   "outputs": [
    {
     "name": "stdout",
     "output_type": "stream",
     "text": [
      "THE  FELLOWSHIP \n",
      "OF  THE  RING \n",
      "\n",
      "\n",
      "BEING  THE  FIRST  PART \n",
      "OF \n",
      "\n",
      "The  Lord  of  the  Rings \n",
      "\n",
      "\n",
      "BOOK  ONE \n",
      "\n",
      "\n",
      "Chapter  I \n",
      "\n",
      "\n",
      "A  LONG-EXPECTED  PARTY \n",
      "\n",
      "\n",
      "When  Mr.  Bilbo  Baggins  of  Bag  End  announced  that  he \n",
      "would  shortly  be  celebrating  his  eleventy-first  birthday  with \n",
      "a  party  of  special\n"
     ]
    }
   ],
   "source": [
    "with open(\"/tf/tensorflow-tutorials/ring.txt\", \"r\") as f:\n",
    "    source = f.read()\n",
    "print(source[:300])"
   ]
  },
  {
   "cell_type": "code",
   "execution_count": 19,
   "metadata": {
    "id": "Duhg9NrUymwO",
    "trusted": true
   },
   "outputs": [
    {
     "name": "stdout",
     "output_type": "stream",
     "text": [
      "1145534 characters\n"
     ]
    }
   ],
   "source": [
    "print ('{} characters'.format(len(source)))"
   ]
  },
  {
   "cell_type": "code",
   "execution_count": 20,
   "metadata": {
    "id": "IlCgQBRVymwR",
    "trusted": true
   },
   "outputs": [
    {
     "name": "stdout",
     "output_type": "stream",
     "text": [
      "88 unique characters\n"
     ]
    }
   ],
   "source": [
    "vocab = sorted(set(source))\n",
    "print ('{} unique characters'.format(len(vocab)))"
   ]
  },
  {
   "cell_type": "code",
   "execution_count": 21,
   "metadata": {
    "id": "IalZLbvOzf-F",
    "trusted": true
   },
   "outputs": [
    {
     "name": "stdout",
     "output_type": "stream",
     "text": [
      "[45 33 30 ...  1  0  0]\n"
     ]
    }
   ],
   "source": [
    "# unique characters to indices mapping\n",
    "char2index = {u:i for i, u in enumerate(vocab)}\n",
    "index2char = np.array(vocab)\n",
    "\n",
    "text_as_int = np.array([char2index[c] for c in source])\n",
    "\n",
    "print(text_as_int)"
   ]
  },
  {
   "cell_type": "code",
   "execution_count": 22,
   "metadata": {
    "id": "l1VKcQHcymwb",
    "trusted": true
   },
   "outputs": [
    {
     "name": "stdout",
     "output_type": "stream",
     "text": [
      "'THE  FELLOWSH' -- characters mapped to int -- > [45 33 30  1  1 31 30 37 37 40 48 44 33]\n"
     ]
    }
   ],
   "source": [
    "print ('{} -- characters mapped to int -- > {}'.format(repr(source[:13]), text_as_int[:13]))"
   ]
  },
  {
   "cell_type": "markdown",
   "metadata": {},
   "source": [
    "### DATASET PREPROCESSING\n",
    "- character to index mapping and converting text to numerical representation\n",
    "- defining max input sequence length\n",
    "- creating TensorFlow Dataset from the source\n",
    "- creating batches from dataset\n",
    "- input-target split function (:-1 is input, and last element is expected value)\n",
    "- applying input-target split function to each batch"
   ]
  },
  {
   "cell_type": "code",
   "execution_count": 23,
   "metadata": {
    "id": "0UHJDA39zf-O",
    "trusted": true
   },
   "outputs": [
    {
     "name": "stdout",
     "output_type": "stream",
     "text": [
      "T\n",
      "H\n",
      "E\n",
      " \n",
      " \n"
     ]
    },
    {
     "name": "stderr",
     "output_type": "stream",
     "text": [
      "2024-12-28 22:28:27.331969: I tensorflow/core/common_runtime/executor.cc:1197] [/device:CPU:0] (DEBUG INFO) Executor start aborting (this does not indicate an error and you can ignore this message): INVALID_ARGUMENT: You must feed a value for placeholder tensor 'Placeholder/_0' with dtype int64 and shape [1145534]\n",
      "\t [[{{node Placeholder/_0}}]]\n"
     ]
    }
   ],
   "source": [
    "seq_length = 100\n",
    "examples_per_epoch = len(source)//(seq_length+1)\n",
    "\n",
    "char_dataset = tf.data.Dataset.from_tensor_slices(text_as_int)\n",
    "\n",
    "for i in char_dataset.take(5):\n",
    "  print(index2char[i.numpy()])\n"
   ]
  },
  {
   "cell_type": "code",
   "execution_count": 24,
   "metadata": {
    "id": "l4hkDU3i7ozi",
    "trusted": true
   },
   "outputs": [
    {
     "name": "stdout",
     "output_type": "stream",
     "text": [
      "'THE  FELLOWSHIP \\nOF  THE  RING \\n\\n\\nBEING  THE  FIRST  PART \\nOF \\n\\nThe  Lord  of  the  Rings \\n\\n\\nBOOK  ON'\n",
      "'E \\n\\n\\nChapter  I \\n\\n\\nA  LONG-EXPECTED  PARTY \\n\\n\\nWhen  Mr.  Bilbo  Baggins  of  Bag  End  announced  tha'\n",
      "'t  he \\nwould  shortly  be  celebrating  his  eleventy-first  birthday  with \\na  party  of  special  m'\n",
      "'agnificence,  there  was  much  talk  and \\nexcitement  in  Hobbiton. \\n\\nBilbo  was  very  rich  and  v'\n",
      "'ery  peculiar,  and  had  been  the \\nwonder  of  the  Shire  for  sixty  years,  ever  since  his  re'\n"
     ]
    },
    {
     "name": "stderr",
     "output_type": "stream",
     "text": [
      "2024-12-28 22:28:27.495947: I tensorflow/core/common_runtime/executor.cc:1197] [/device:CPU:0] (DEBUG INFO) Executor start aborting (this does not indicate an error and you can ignore this message): INVALID_ARGUMENT: You must feed a value for placeholder tensor 'Placeholder/_0' with dtype int64 and shape [1145534]\n",
      "\t [[{{node Placeholder/_0}}]]\n"
     ]
    }
   ],
   "source": [
    "sequences = char_dataset.batch(seq_length+1, drop_remainder=True)\n",
    "\n",
    "for item in sequences.take(5):\n",
    "  print(repr(''.join(index2char[item.numpy()])))"
   ]
  },
  {
   "cell_type": "code",
   "execution_count": 25,
   "metadata": {
    "id": "9NGu-FkO_kYU",
    "trusted": true
   },
   "outputs": [],
   "source": [
    "def split_input_target(chunk):\n",
    "    input_text = chunk[:-1]\n",
    "    target_text = chunk[1:]\n",
    "    return input_text, target_text\n",
    "\n",
    "dataset = sequences.map(split_input_target)"
   ]
  },
  {
   "cell_type": "markdown",
   "metadata": {},
   "source": [
    "### PARAMETERS\n",
    "- training parameters & data shuffling\n",
    "- model hyperparameters"
   ]
  },
  {
   "cell_type": "code",
   "execution_count": 26,
   "metadata": {
    "id": "p2pGotuNzf-S",
    "trusted": true
   },
   "outputs": [
    {
     "data": {
      "text/plain": [
       "<_BatchDataset element_spec=(TensorSpec(shape=(2048, 100), dtype=tf.int64, name=None), TensorSpec(shape=(2048, 100), dtype=tf.int64, name=None))>"
      ]
     },
     "execution_count": 26,
     "metadata": {},
     "output_type": "execute_result"
    }
   ],
   "source": [
    "BATCH_SIZE = 2048\n",
    "BUFFER_SIZE = 10000\n",
    "\n",
    "dataset = dataset.shuffle(BUFFER_SIZE).batch(BATCH_SIZE, drop_remainder=True)\n",
    "\n",
    "dataset"
   ]
  },
  {
   "cell_type": "code",
   "execution_count": 27,
   "metadata": {
    "id": "zHT8cLh7EAsg",
    "trusted": true
   },
   "outputs": [
    {
     "name": "stdout",
     "output_type": "stream",
     "text": [
      "88\n"
     ]
    }
   ],
   "source": [
    "# Length of the vocabulary in chars\n",
    "vocab_size = len(vocab)\n",
    "\n",
    "# The embedding dimension\n",
    "embedding_dim = 300 #256\n",
    "\n",
    "# Number of RNN units\n",
    "rnn_units1 = 256\n",
    "rnn_units2 = 256\n",
    "rnn_units=[rnn_units1, rnn_units2]\n",
    "print(vocab_size)"
   ]
  },
  {
   "cell_type": "markdown",
   "metadata": {},
   "source": [
    "### BUILDING MODEL\n",
    "- GRU, LSTM, RNN, with Conv1"
   ]
  },
  {
   "cell_type": "code",
   "execution_count": 30,
   "metadata": {},
   "outputs": [],
   "source": [
    "# RNN\n",
    "def build_model(vocab_size, embedding_dim, rnn_units, batch_size):\n",
    "    model = tf.keras.Sequential([\n",
    "        tf.keras.layers.Embedding(vocab_size, embedding_dim, \n",
    "                                  batch_input_shape=[batch_size, None]),\n",
    "        tf.keras.layers.SimpleRNN(rnn_units1,\n",
    "                                  return_sequences=True,\n",
    "                                  stateful=True,\n",
    "                                  recurrent_initializer='glorot_uniform'),\n",
    "        tf.keras.layers.SimpleRNN(rnn_units2,\n",
    "                                  return_sequences=True,\n",
    "                                  stateful=True,\n",
    "                                  recurrent_initializer='glorot_uniform'),\n",
    "        tf.keras.layers.Dense(vocab_size)\n",
    "    ])\n",
    "    return model\n"
   ]
  },
  {
   "cell_type": "code",
   "execution_count": 32,
   "metadata": {
    "id": "wwsrpOik5zhv",
    "trusted": true
   },
   "outputs": [],
   "source": [
    "model = build_model(\n",
    "  vocab_size = vocab_size,\n",
    "  embedding_dim=embedding_dim,\n",
    "  rnn_units=rnn_units,\n",
    "  batch_size=BATCH_SIZE)"
   ]
  },
  {
   "cell_type": "code",
   "execution_count": 33,
   "metadata": {
    "id": "vPGmAAXmVLGC",
    "trusted": true
   },
   "outputs": [
    {
     "name": "stdout",
     "output_type": "stream",
     "text": [
      "Model: \"sequential\"\n",
      "_________________________________________________________________\n",
      " Layer (type)                Output Shape              Param #   \n",
      "=================================================================\n",
      " embedding (Embedding)       (2048, None, 300)         26400     \n",
      "                                                                 \n",
      " simple_rnn (SimpleRNN)      (2048, None, 256)         142592    \n",
      "                                                                 \n",
      " simple_rnn_1 (SimpleRNN)    (2048, None, 256)         131328    \n",
      "                                                                 \n",
      " dense (Dense)               (2048, None, 88)          22616     \n",
      "                                                                 \n",
      "=================================================================\n",
      "Total params: 322,936\n",
      "Trainable params: 322,936\n",
      "Non-trainable params: 0\n",
      "_________________________________________________________________\n"
     ]
    }
   ],
   "source": [
    "model.summary()"
   ]
  },
  {
   "cell_type": "markdown",
   "metadata": {},
   "source": [
    "### MODEL TRAINING\n",
    "- optimizer & loss function declaration\n",
    "- compilation\n",
    "- epochs number\n",
    "- launching the training"
   ]
  },
  {
   "cell_type": "code",
   "execution_count": 34,
   "metadata": {
    "id": "4HrXTACTdzY-",
    "trusted": true
   },
   "outputs": [],
   "source": [
    "def loss(labels, logits):\n",
    "  return tf.keras.losses.sparse_categorical_crossentropy(labels, logits, from_logits=True)"
   ]
  },
  {
   "cell_type": "code",
   "execution_count": 35,
   "metadata": {
    "id": "DDl1_Een6rL0",
    "trusted": true
   },
   "outputs": [],
   "source": [
    "model.compile(optimizer='adam', loss=loss, metrics=['accuracy'])"
   ]
  },
  {
   "cell_type": "code",
   "execution_count": 36,
   "metadata": {
    "id": "W6fWTriUZP-n",
    "trusted": true
   },
   "outputs": [],
   "source": [
    "checkpoint_dir = './checkpoints_RNN_ring_v1'        # TODO: remember to choose proper directory\n",
    "checkpoint_prefix = os.path.join(checkpoint_dir, \"ckpt_{epoch}\")\n",
    "\n",
    "checkpoint_callback=tf.keras.callbacks.ModelCheckpoint(\n",
    "    filepath=checkpoint_prefix,\n",
    "    save_weights_only=True)"
   ]
  },
  {
   "cell_type": "code",
   "execution_count": 37,
   "metadata": {
    "id": "7yGBE2zxMMHs",
    "trusted": true
   },
   "outputs": [],
   "source": [
    "EPOCHS=200"
   ]
  },
  {
   "cell_type": "code",
   "execution_count": 38,
   "metadata": {
    "id": "UK-hmKjYVoll",
    "trusted": true
   },
   "outputs": [
    {
     "name": "stdout",
     "output_type": "stream",
     "text": [
      "Epoch 1/200\n"
     ]
    },
    {
     "name": "stderr",
     "output_type": "stream",
     "text": [
      "2024-12-28 22:28:30.698977: I tensorflow/core/common_runtime/executor.cc:1197] [/device:CPU:0] (DEBUG INFO) Executor start aborting (this does not indicate an error and you can ignore this message): INVALID_ARGUMENT: You must feed a value for placeholder tensor 'Placeholder/_0' with dtype int64 and shape [1145534]\n",
      "\t [[{{node Placeholder/_0}}]]\n",
      "2024-12-28 22:28:30.699300: I tensorflow/core/common_runtime/executor.cc:1197] [/device:CPU:0] (DEBUG INFO) Executor start aborting (this does not indicate an error and you can ignore this message): INVALID_ARGUMENT: You must feed a value for placeholder tensor 'Placeholder/_0' with dtype int64 and shape [1145534]\n",
      "\t [[{{node Placeholder/_0}}]]\n",
      "2024-12-28 22:28:35.811512: I tensorflow/compiler/xla/service/service.cc:169] XLA service 0x7faf6ca319e0 initialized for platform CUDA (this does not guarantee that XLA will be used). Devices:\n",
      "2024-12-28 22:28:35.811576: I tensorflow/compiler/xla/service/service.cc:177]   StreamExecutor device (0): NVIDIA GeForce GTX 970, Compute Capability 5.2\n",
      "2024-12-28 22:28:35.822164: I tensorflow/compiler/mlir/tensorflow/utils/dump_mlir_util.cc:269] disabling MLIR crash reproducer, set env var `MLIR_CRASH_REPRODUCER_DIRECTORY` to enable.\n",
      "2024-12-28 22:28:35.859683: I tensorflow/compiler/xla/stream_executor/cuda/cuda_dnn.cc:424] Loaded cuDNN version 8600\n",
      "2024-12-28 22:28:36.023122: I ./tensorflow/compiler/jit/device_compiler.h:180] Compiled cluster using XLA!  This line is logged at most once for the lifetime of the process.\n"
     ]
    },
    {
     "name": "stdout",
     "output_type": "stream",
     "text": [
      "5/5 [==============================] - 11s 986ms/step - loss: 4.1322 - accuracy: 0.1350\n",
      "Epoch 2/200\n",
      "5/5 [==============================] - 7s 981ms/step - loss: 3.0594 - accuracy: 0.3009\n",
      "Epoch 3/200\n",
      "5/5 [==============================] - 6s 684ms/step - loss: 2.8801 - accuracy: 0.3007\n",
      "Epoch 4/200\n",
      "5/5 [==============================] - 6s 819ms/step - loss: 2.8083 - accuracy: 0.3009\n",
      "Epoch 5/200\n",
      "5/5 [==============================] - 6s 677ms/step - loss: 2.7173 - accuracy: 0.3169\n",
      "Epoch 6/200\n",
      "5/5 [==============================] - 5s 625ms/step - loss: 2.6274 - accuracy: 0.3317\n",
      "Epoch 7/200\n",
      "5/5 [==============================] - 5s 637ms/step - loss: 2.5357 - accuracy: 0.3552\n",
      "Epoch 8/200\n",
      "5/5 [==============================] - 6s 599ms/step - loss: 2.4641 - accuracy: 0.3648\n",
      "Epoch 9/200\n",
      "5/5 [==============================] - 6s 738ms/step - loss: 2.3996 - accuracy: 0.3714\n",
      "Epoch 10/200\n",
      "5/5 [==============================] - 6s 649ms/step - loss: 2.3409 - accuracy: 0.3900\n",
      "Epoch 11/200\n",
      "5/5 [==============================] - 6s 725ms/step - loss: 2.3038 - accuracy: 0.4001\n",
      "Epoch 12/200\n",
      "5/5 [==============================] - 7s 868ms/step - loss: 2.2500 - accuracy: 0.4127\n",
      "Epoch 13/200\n",
      "5/5 [==============================] - 5s 607ms/step - loss: 2.1962 - accuracy: 0.4204\n",
      "Epoch 14/200\n",
      "5/5 [==============================] - 7s 956ms/step - loss: 2.1466 - accuracy: 0.4296\n",
      "Epoch 15/200\n",
      "5/5 [==============================] - 6s 678ms/step - loss: 2.1089 - accuracy: 0.4328\n",
      "Epoch 16/200\n",
      "5/5 [==============================] - 7s 752ms/step - loss: 2.0813 - accuracy: 0.4376\n",
      "Epoch 17/200\n",
      "5/5 [==============================] - 7s 995ms/step - loss: 2.0377 - accuracy: 0.4458\n",
      "Epoch 18/200\n",
      "5/5 [==============================] - 6s 854ms/step - loss: 2.0103 - accuracy: 0.4534\n",
      "Epoch 19/200\n",
      "5/5 [==============================] - 5s 597ms/step - loss: 1.9827 - accuracy: 0.4573\n",
      "Epoch 20/200\n",
      "5/5 [==============================] - 6s 755ms/step - loss: 1.9582 - accuracy: 0.4624\n",
      "Epoch 21/200\n",
      "5/5 [==============================] - 8s 800ms/step - loss: 1.9348 - accuracy: 0.4665\n",
      "Epoch 22/200\n",
      "5/5 [==============================] - 5s 637ms/step - loss: 1.9143 - accuracy: 0.4714\n",
      "Epoch 23/200\n",
      "5/5 [==============================] - 5s 631ms/step - loss: 1.8945 - accuracy: 0.4775\n",
      "Epoch 24/200\n",
      "5/5 [==============================] - 6s 735ms/step - loss: 1.8766 - accuracy: 0.4809\n",
      "Epoch 25/200\n",
      "5/5 [==============================] - 5s 627ms/step - loss: 1.8582 - accuracy: 0.4860\n",
      "Epoch 26/200\n",
      "5/5 [==============================] - 6s 724ms/step - loss: 1.8415 - accuracy: 0.4904\n",
      "Epoch 27/200\n",
      "5/5 [==============================] - 5s 576ms/step - loss: 1.8268 - accuracy: 0.4938\n",
      "Epoch 28/200\n",
      "5/5 [==============================] - 5s 559ms/step - loss: 1.8122 - accuracy: 0.4976\n",
      "Epoch 29/200\n",
      "5/5 [==============================] - 6s 780ms/step - loss: 1.7973 - accuracy: 0.5006\n",
      "Epoch 30/200\n",
      "5/5 [==============================] - 6s 847ms/step - loss: 1.7835 - accuracy: 0.5041\n",
      "Epoch 31/200\n",
      "5/5 [==============================] - 7s 693ms/step - loss: 1.7711 - accuracy: 0.5072\n",
      "Epoch 32/200\n",
      "5/5 [==============================] - 6s 738ms/step - loss: 1.7589 - accuracy: 0.5100\n",
      "Epoch 33/200\n",
      "5/5 [==============================] - 5s 622ms/step - loss: 1.7472 - accuracy: 0.5126\n",
      "Epoch 34/200\n",
      "5/5 [==============================] - 5s 607ms/step - loss: 1.7352 - accuracy: 0.5151\n",
      "Epoch 35/200\n",
      "5/5 [==============================] - 6s 653ms/step - loss: 1.7243 - accuracy: 0.5173\n",
      "Epoch 36/200\n",
      "5/5 [==============================] - 6s 634ms/step - loss: 1.7130 - accuracy: 0.5193\n",
      "Epoch 37/200\n",
      "5/5 [==============================] - 5s 619ms/step - loss: 1.7030 - accuracy: 0.5213\n",
      "Epoch 38/200\n",
      "5/5 [==============================] - 5s 664ms/step - loss: 1.6932 - accuracy: 0.5233\n",
      "Epoch 39/200\n",
      "5/5 [==============================] - 8s 1s/step - loss: 1.6838 - accuracy: 0.5251\n",
      "Epoch 40/200\n",
      "5/5 [==============================] - 7s 1s/step - loss: 1.6748 - accuracy: 0.5272\n",
      "Epoch 41/200\n",
      "5/5 [==============================] - 7s 1s/step - loss: 1.6656 - accuracy: 0.5289\n",
      "Epoch 42/200\n",
      "5/5 [==============================] - 7s 1s/step - loss: 1.6555 - accuracy: 0.5314\n",
      "Epoch 43/200\n",
      "5/5 [==============================] - 7s 1s/step - loss: 1.6467 - accuracy: 0.5340\n",
      "Epoch 44/200\n",
      "5/5 [==============================] - 6s 717ms/step - loss: 1.6379 - accuracy: 0.5358\n",
      "Epoch 45/200\n",
      "5/5 [==============================] - 5s 737ms/step - loss: 1.6302 - accuracy: 0.5374\n",
      "Epoch 46/200\n",
      "5/5 [==============================] - 6s 1s/step - loss: 1.6218 - accuracy: 0.5395\n",
      "Epoch 47/200\n",
      "5/5 [==============================] - 5s 694ms/step - loss: 1.6123 - accuracy: 0.5420\n",
      "Epoch 48/200\n",
      "5/5 [==============================] - 7s 1s/step - loss: 1.6058 - accuracy: 0.5432\n",
      "Epoch 49/200\n",
      "5/5 [==============================] - 7s 1s/step - loss: 1.5972 - accuracy: 0.5457\n",
      "Epoch 50/200\n",
      "5/5 [==============================] - 7s 1s/step - loss: 1.5908 - accuracy: 0.5473\n",
      "Epoch 51/200\n",
      "5/5 [==============================] - 7s 1s/step - loss: 1.5836 - accuracy: 0.5489\n",
      "Epoch 52/200\n",
      "5/5 [==============================] - 7s 1s/step - loss: 1.5758 - accuracy: 0.5507\n",
      "Epoch 53/200\n",
      "5/5 [==============================] - 5s 687ms/step - loss: 1.5692 - accuracy: 0.5521\n",
      "Epoch 54/200\n",
      "5/5 [==============================] - 8s 1s/step - loss: 1.5617 - accuracy: 0.5542\n",
      "Epoch 55/200\n",
      "5/5 [==============================] - 7s 1s/step - loss: 1.5544 - accuracy: 0.5559\n",
      "Epoch 56/200\n",
      "5/5 [==============================] - 6s 778ms/step - loss: 1.5474 - accuracy: 0.5575\n",
      "Epoch 57/200\n",
      "5/5 [==============================] - 5s 689ms/step - loss: 1.5407 - accuracy: 0.5589\n",
      "Epoch 58/200\n",
      "5/5 [==============================] - 5s 688ms/step - loss: 1.5348 - accuracy: 0.5600\n",
      "Epoch 59/200\n",
      "5/5 [==============================] - 6s 1s/step - loss: 1.5278 - accuracy: 0.5620\n",
      "Epoch 60/200\n",
      "5/5 [==============================] - 6s 730ms/step - loss: 1.5203 - accuracy: 0.5639\n",
      "Epoch 61/200\n",
      "5/5 [==============================] - 6s 741ms/step - loss: 1.5140 - accuracy: 0.5654\n",
      "Epoch 62/200\n",
      "5/5 [==============================] - 7s 1s/step - loss: 1.5098 - accuracy: 0.5669\n",
      "Epoch 63/200\n",
      "5/5 [==============================] - 7s 1s/step - loss: 1.5025 - accuracy: 0.5689\n",
      "Epoch 64/200\n",
      "5/5 [==============================] - 7s 1s/step - loss: 1.4966 - accuracy: 0.5701\n",
      "Epoch 65/200\n",
      "5/5 [==============================] - 7s 1s/step - loss: 1.4916 - accuracy: 0.5718\n",
      "Epoch 66/200\n",
      "5/5 [==============================] - 7s 1s/step - loss: 1.4850 - accuracy: 0.5734\n",
      "Epoch 67/200\n",
      "5/5 [==============================] - 7s 1s/step - loss: 1.4798 - accuracy: 0.5750\n",
      "Epoch 68/200\n",
      "5/5 [==============================] - 6s 710ms/step - loss: 1.4737 - accuracy: 0.5766\n",
      "Epoch 69/200\n",
      "5/5 [==============================] - 6s 1s/step - loss: 1.4679 - accuracy: 0.5780\n",
      "Epoch 70/200\n",
      "5/5 [==============================] - 7s 1s/step - loss: 1.4627 - accuracy: 0.5797\n",
      "Epoch 71/200\n",
      "5/5 [==============================] - 7s 1s/step - loss: 1.4563 - accuracy: 0.5813\n",
      "Epoch 72/200\n",
      "5/5 [==============================] - 7s 1s/step - loss: 1.4527 - accuracy: 0.5820\n",
      "Epoch 73/200\n",
      "5/5 [==============================] - 6s 728ms/step - loss: 1.4473 - accuracy: 0.5833\n",
      "Epoch 74/200\n",
      "5/5 [==============================] - 7s 1s/step - loss: 1.4416 - accuracy: 0.5852\n",
      "Epoch 75/200\n",
      "5/5 [==============================] - 7s 1s/step - loss: 1.4362 - accuracy: 0.5866\n",
      "Epoch 76/200\n",
      "5/5 [==============================] - 7s 1s/step - loss: 1.4330 - accuracy: 0.5874\n",
      "Epoch 77/200\n",
      "5/5 [==============================] - 6s 701ms/step - loss: 1.4272 - accuracy: 0.5892\n",
      "Epoch 78/200\n",
      "5/5 [==============================] - 7s 1s/step - loss: 1.4219 - accuracy: 0.5904\n",
      "Epoch 79/200\n",
      "5/5 [==============================] - 7s 1s/step - loss: 1.4180 - accuracy: 0.5913\n",
      "Epoch 80/200\n",
      "5/5 [==============================] - 7s 1s/step - loss: 1.4130 - accuracy: 0.5930\n",
      "Epoch 81/200\n",
      "5/5 [==============================] - 8s 1s/step - loss: 1.4088 - accuracy: 0.5936\n",
      "Epoch 82/200\n",
      "5/5 [==============================] - 7s 1s/step - loss: 1.4037 - accuracy: 0.5951\n",
      "Epoch 83/200\n",
      "5/5 [==============================] - 7s 1s/step - loss: 1.3992 - accuracy: 0.5962\n",
      "Epoch 84/200\n",
      "5/5 [==============================] - 8s 1s/step - loss: 1.3958 - accuracy: 0.5971\n",
      "Epoch 85/200\n",
      "5/5 [==============================] - 5s 685ms/step - loss: 1.3914 - accuracy: 0.5980\n",
      "Epoch 86/200\n",
      "5/5 [==============================] - 7s 1s/step - loss: 1.3873 - accuracy: 0.5995\n",
      "Epoch 87/200\n",
      "5/5 [==============================] - 7s 1s/step - loss: 1.3841 - accuracy: 0.5999\n",
      "Epoch 88/200\n",
      "5/5 [==============================] - 7s 1s/step - loss: 1.3798 - accuracy: 0.6011\n",
      "Epoch 89/200\n",
      "5/5 [==============================] - 7s 1s/step - loss: 1.3749 - accuracy: 0.6022\n",
      "Epoch 90/200\n",
      "5/5 [==============================] - 6s 703ms/step - loss: 1.3710 - accuracy: 0.6032\n",
      "Epoch 91/200\n",
      "5/5 [==============================] - 6s 710ms/step - loss: 1.3679 - accuracy: 0.6041\n",
      "Epoch 92/200\n",
      "5/5 [==============================] - 5s 687ms/step - loss: 1.3636 - accuracy: 0.6050\n",
      "Epoch 93/200\n",
      "5/5 [==============================] - 7s 1s/step - loss: 1.3597 - accuracy: 0.6062\n",
      "Epoch 94/200\n",
      "5/5 [==============================] - 6s 693ms/step - loss: 1.3559 - accuracy: 0.6072\n",
      "Epoch 95/200\n",
      "5/5 [==============================] - 7s 1s/step - loss: 1.3521 - accuracy: 0.6078\n",
      "Epoch 96/200\n",
      "5/5 [==============================] - 7s 1s/step - loss: 1.3483 - accuracy: 0.6089\n",
      "Epoch 97/200\n",
      "5/5 [==============================] - 8s 1s/step - loss: 1.3457 - accuracy: 0.6097\n",
      "Epoch 98/200\n",
      "5/5 [==============================] - 6s 783ms/step - loss: 1.3407 - accuracy: 0.6110\n",
      "Epoch 99/200\n",
      "5/5 [==============================] - 6s 1s/step - loss: 1.3390 - accuracy: 0.6113\n",
      "Epoch 100/200\n",
      "5/5 [==============================] - 6s 714ms/step - loss: 1.3362 - accuracy: 0.6126\n",
      "Epoch 101/200\n",
      "5/5 [==============================] - 6s 1s/step - loss: 1.3316 - accuracy: 0.6137\n",
      "Epoch 102/200\n",
      "5/5 [==============================] - 7s 1s/step - loss: 1.3286 - accuracy: 0.6144\n",
      "Epoch 103/200\n",
      "5/5 [==============================] - 7s 697ms/step - loss: 1.3254 - accuracy: 0.6153\n",
      "Epoch 104/200\n",
      "5/5 [==============================] - 5s 624ms/step - loss: 1.3219 - accuracy: 0.6161\n",
      "Epoch 105/200\n",
      "5/5 [==============================] - 9s 1s/step - loss: 1.3179 - accuracy: 0.6170\n",
      "Epoch 106/200\n",
      "5/5 [==============================] - 9s 1s/step - loss: 1.3167 - accuracy: 0.6177\n",
      "Epoch 107/200\n",
      "5/5 [==============================] - 6s 743ms/step - loss: 1.3147 - accuracy: 0.6182\n",
      "Epoch 108/200\n",
      "5/5 [==============================] - 7s 884ms/step - loss: 1.3112 - accuracy: 0.6191\n",
      "Epoch 109/200\n",
      "5/5 [==============================] - 6s 729ms/step - loss: 1.3080 - accuracy: 0.6197\n",
      "Epoch 110/200\n",
      "5/5 [==============================] - 6s 790ms/step - loss: 1.3047 - accuracy: 0.6203\n",
      "Epoch 111/200\n",
      "5/5 [==============================] - 6s 702ms/step - loss: 1.3013 - accuracy: 0.6215\n",
      "Epoch 112/200\n",
      "5/5 [==============================] - 6s 697ms/step - loss: 1.2988 - accuracy: 0.6224\n",
      "Epoch 113/200\n",
      "5/5 [==============================] - 5s 714ms/step - loss: 1.2960 - accuracy: 0.6229\n",
      "Epoch 114/200\n",
      "5/5 [==============================] - 6s 831ms/step - loss: 1.2938 - accuracy: 0.6232\n",
      "Epoch 115/200\n",
      "5/5 [==============================] - 8s 1s/step - loss: 1.2912 - accuracy: 0.6241\n",
      "Epoch 116/200\n",
      "5/5 [==============================] - 7s 1s/step - loss: 1.2895 - accuracy: 0.6244\n",
      "Epoch 117/200\n",
      "5/5 [==============================] - 8s 1s/step - loss: 1.2865 - accuracy: 0.6250\n",
      "Epoch 118/200\n",
      "5/5 [==============================] - 5s 566ms/step - loss: 1.2833 - accuracy: 0.6259\n",
      "Epoch 119/200\n",
      "5/5 [==============================] - 6s 723ms/step - loss: 1.2806 - accuracy: 0.6266\n",
      "Epoch 120/200\n",
      "5/5 [==============================] - 5s 741ms/step - loss: 1.2782 - accuracy: 0.6273\n",
      "Epoch 121/200\n",
      "5/5 [==============================] - 5s 639ms/step - loss: 1.2760 - accuracy: 0.6281\n",
      "Epoch 122/200\n",
      "5/5 [==============================] - 5s 580ms/step - loss: 1.2746 - accuracy: 0.6283\n",
      "Epoch 123/200\n",
      "5/5 [==============================] - 5s 581ms/step - loss: 1.2718 - accuracy: 0.6290\n",
      "Epoch 124/200\n",
      "5/5 [==============================] - 5s 588ms/step - loss: 1.2682 - accuracy: 0.6300\n",
      "Epoch 125/200\n",
      "5/5 [==============================] - 8s 1s/step - loss: 1.2662 - accuracy: 0.6303\n",
      "Epoch 126/200\n",
      "5/5 [==============================] - 5s 633ms/step - loss: 1.2648 - accuracy: 0.6306\n",
      "Epoch 127/200\n",
      "5/5 [==============================] - 7s 929ms/step - loss: 1.2617 - accuracy: 0.6317\n",
      "Epoch 128/200\n",
      "5/5 [==============================] - 8s 1s/step - loss: 1.2595 - accuracy: 0.6322\n",
      "Epoch 129/200\n",
      "5/5 [==============================] - 5s 639ms/step - loss: 1.2578 - accuracy: 0.6325\n",
      "Epoch 130/200\n",
      "5/5 [==============================] - 5s 569ms/step - loss: 1.2551 - accuracy: 0.6333\n",
      "Epoch 131/200\n",
      "5/5 [==============================] - 6s 715ms/step - loss: 1.2523 - accuracy: 0.6338\n",
      "Epoch 132/200\n",
      "5/5 [==============================] - 7s 1s/step - loss: 1.2515 - accuracy: 0.6342\n",
      "Epoch 133/200\n",
      "5/5 [==============================] - 5s 585ms/step - loss: 1.2499 - accuracy: 0.6345\n",
      "Epoch 134/200\n",
      "5/5 [==============================] - 6s 753ms/step - loss: 1.2476 - accuracy: 0.6351\n",
      "Epoch 135/200\n",
      "5/5 [==============================] - 6s 714ms/step - loss: 1.2456 - accuracy: 0.6357\n",
      "Epoch 136/200\n",
      "5/5 [==============================] - 5s 632ms/step - loss: 1.2424 - accuracy: 0.6362\n",
      "Epoch 137/200\n",
      "5/5 [==============================] - 8s 1s/step - loss: 1.2406 - accuracy: 0.6369\n",
      "Epoch 138/200\n",
      "5/5 [==============================] - 6s 688ms/step - loss: 1.2393 - accuracy: 0.6373\n",
      "Epoch 139/200\n",
      "5/5 [==============================] - 7s 1s/step - loss: 1.2376 - accuracy: 0.6376\n",
      "Epoch 140/200\n",
      "5/5 [==============================] - 7s 1s/step - loss: 1.2340 - accuracy: 0.6387\n",
      "Epoch 141/200\n",
      "5/5 [==============================] - 7s 1s/step - loss: 1.2335 - accuracy: 0.6388\n",
      "Epoch 142/200\n",
      "5/5 [==============================] - 8s 1s/step - loss: 1.2315 - accuracy: 0.6391\n",
      "Epoch 143/200\n",
      "5/5 [==============================] - 6s 663ms/step - loss: 1.2298 - accuracy: 0.6397\n",
      "Epoch 144/200\n",
      "5/5 [==============================] - 7s 736ms/step - loss: 1.2287 - accuracy: 0.6396\n",
      "Epoch 145/200\n",
      "5/5 [==============================] - 5s 680ms/step - loss: 1.2266 - accuracy: 0.6403\n",
      "Epoch 146/200\n",
      "5/5 [==============================] - 5s 636ms/step - loss: 1.2246 - accuracy: 0.6409\n",
      "Epoch 147/200\n",
      "5/5 [==============================] - 5s 596ms/step - loss: 1.2230 - accuracy: 0.6414\n",
      "Epoch 148/200\n",
      "5/5 [==============================] - 7s 898ms/step - loss: 1.2223 - accuracy: 0.6415\n",
      "Epoch 149/200\n",
      "5/5 [==============================] - 5s 654ms/step - loss: 1.2199 - accuracy: 0.6422\n",
      "Epoch 150/200\n",
      "5/5 [==============================] - 7s 1s/step - loss: 1.2179 - accuracy: 0.6429\n",
      "Epoch 151/200\n",
      "5/5 [==============================] - 5s 612ms/step - loss: 1.2161 - accuracy: 0.6430\n",
      "Epoch 152/200\n",
      "5/5 [==============================] - 5s 654ms/step - loss: 1.2145 - accuracy: 0.6434\n",
      "Epoch 153/200\n",
      "5/5 [==============================] - 6s 625ms/step - loss: 1.2127 - accuracy: 0.6441\n",
      "Epoch 154/200\n",
      "5/5 [==============================] - 5s 649ms/step - loss: 1.2103 - accuracy: 0.6445\n",
      "Epoch 155/200\n",
      "5/5 [==============================] - 7s 1s/step - loss: 1.2101 - accuracy: 0.6448\n",
      "Epoch 156/200\n",
      "5/5 [==============================] - 5s 593ms/step - loss: 1.2082 - accuracy: 0.6453\n",
      "Epoch 157/200\n",
      "5/5 [==============================] - 7s 1s/step - loss: 1.2070 - accuracy: 0.6455\n",
      "Epoch 158/200\n",
      "5/5 [==============================] - 6s 908ms/step - loss: 1.2047 - accuracy: 0.6460\n",
      "Epoch 159/200\n",
      "5/5 [==============================] - 7s 1s/step - loss: 1.2039 - accuracy: 0.6465\n",
      "Epoch 160/200\n",
      "5/5 [==============================] - 5s 615ms/step - loss: 1.2024 - accuracy: 0.6468\n",
      "Epoch 161/200\n",
      "5/5 [==============================] - 6s 716ms/step - loss: 1.1987 - accuracy: 0.6475\n",
      "Epoch 162/200\n",
      "5/5 [==============================] - 7s 1s/step - loss: 1.1995 - accuracy: 0.6475\n",
      "Epoch 163/200\n",
      "5/5 [==============================] - 6s 632ms/step - loss: 1.1973 - accuracy: 0.6481\n",
      "Epoch 164/200\n",
      "5/5 [==============================] - 5s 619ms/step - loss: 1.1957 - accuracy: 0.6483\n",
      "Epoch 165/200\n",
      "5/5 [==============================] - 6s 764ms/step - loss: 1.1944 - accuracy: 0.6486\n",
      "Epoch 166/200\n",
      "5/5 [==============================] - 6s 631ms/step - loss: 1.1924 - accuracy: 0.6491\n",
      "Epoch 167/200\n",
      "5/5 [==============================] - 6s 909ms/step - loss: 1.1917 - accuracy: 0.6494\n",
      "Epoch 168/200\n",
      "5/5 [==============================] - 5s 597ms/step - loss: 1.1900 - accuracy: 0.6497\n",
      "Epoch 169/200\n",
      "5/5 [==============================] - 5s 570ms/step - loss: 1.1891 - accuracy: 0.6501\n",
      "Epoch 170/200\n",
      "5/5 [==============================] - 8s 1s/step - loss: 1.1882 - accuracy: 0.6501\n",
      "Epoch 171/200\n",
      "5/5 [==============================] - 5s 590ms/step - loss: 1.1862 - accuracy: 0.6507\n",
      "Epoch 172/200\n",
      "5/5 [==============================] - 5s 591ms/step - loss: 1.1849 - accuracy: 0.6511\n",
      "Epoch 173/200\n",
      "5/5 [==============================] - 7s 953ms/step - loss: 1.1833 - accuracy: 0.6512\n",
      "Epoch 174/200\n",
      "5/5 [==============================] - 5s 651ms/step - loss: 1.1824 - accuracy: 0.6517\n",
      "Epoch 175/200\n",
      "5/5 [==============================] - 5s 710ms/step - loss: 1.1810 - accuracy: 0.6518\n",
      "Epoch 176/200\n",
      "5/5 [==============================] - 7s 954ms/step - loss: 1.1800 - accuracy: 0.6522\n",
      "Epoch 177/200\n",
      "5/5 [==============================] - 6s 828ms/step - loss: 1.1791 - accuracy: 0.6523\n",
      "Epoch 178/200\n",
      "5/5 [==============================] - 5s 594ms/step - loss: 1.1765 - accuracy: 0.6530\n",
      "Epoch 179/200\n",
      "5/5 [==============================] - 5s 784ms/step - loss: 1.1750 - accuracy: 0.6534\n",
      "Epoch 180/200\n",
      "5/5 [==============================] - 5s 573ms/step - loss: 1.1741 - accuracy: 0.6538\n",
      "Epoch 181/200\n",
      "5/5 [==============================] - 6s 715ms/step - loss: 1.1729 - accuracy: 0.6540\n",
      "Epoch 182/200\n",
      "5/5 [==============================] - 5s 698ms/step - loss: 1.1729 - accuracy: 0.6540\n",
      "Epoch 183/200\n",
      "5/5 [==============================] - 8s 1s/step - loss: 1.1719 - accuracy: 0.6543\n",
      "Epoch 184/200\n",
      "5/5 [==============================] - 5s 647ms/step - loss: 1.1703 - accuracy: 0.6544\n",
      "Epoch 185/200\n",
      "5/5 [==============================] - 6s 657ms/step - loss: 1.1705 - accuracy: 0.6548\n",
      "Epoch 186/200\n",
      "5/5 [==============================] - 6s 607ms/step - loss: 1.1684 - accuracy: 0.6550\n",
      "Epoch 187/200\n",
      "5/5 [==============================] - 8s 1s/step - loss: 1.1660 - accuracy: 0.6558\n",
      "Epoch 188/200\n",
      "5/5 [==============================] - 8s 888ms/step - loss: 1.1655 - accuracy: 0.6559\n",
      "Epoch 189/200\n",
      "5/5 [==============================] - 6s 810ms/step - loss: 1.1629 - accuracy: 0.6563\n",
      "Epoch 190/200\n",
      "5/5 [==============================] - 6s 723ms/step - loss: 1.1637 - accuracy: 0.6563\n",
      "Epoch 191/200\n",
      "5/5 [==============================] - 5s 718ms/step - loss: 1.1615 - accuracy: 0.6568\n",
      "Epoch 192/200\n",
      "5/5 [==============================] - 5s 556ms/step - loss: 1.1600 - accuracy: 0.6571\n",
      "Epoch 193/200\n",
      "5/5 [==============================] - 6s 788ms/step - loss: 1.1596 - accuracy: 0.6574\n",
      "Epoch 194/200\n",
      "5/5 [==============================] - 6s 624ms/step - loss: 1.1586 - accuracy: 0.6576\n",
      "Epoch 195/200\n",
      "5/5 [==============================] - 6s 636ms/step - loss: 1.1570 - accuracy: 0.6580\n",
      "Epoch 196/200\n",
      "5/5 [==============================] - 7s 1s/step - loss: 1.1565 - accuracy: 0.6579\n",
      "Epoch 197/200\n",
      "5/5 [==============================] - 6s 623ms/step - loss: 1.1558 - accuracy: 0.6580\n",
      "Epoch 198/200\n",
      "5/5 [==============================] - 6s 914ms/step - loss: 1.1545 - accuracy: 0.6584\n",
      "Epoch 199/200\n",
      "5/5 [==============================] - 7s 687ms/step - loss: 1.1535 - accuracy: 0.6585\n",
      "Epoch 200/200\n",
      "5/5 [==============================] - 7s 970ms/step - loss: 1.1518 - accuracy: 0.6591\n"
     ]
    }
   ],
   "source": [
    "history = model.fit(dataset, epochs=EPOCHS, callbacks=[checkpoint_callback])"
   ]
  },
  {
   "cell_type": "code",
   "execution_count": 39,
   "metadata": {},
   "outputs": [
    {
     "data": {
      "image/png": "[encoded data removed]",
      "text/plain": [
       "<Figure size 1200x600 with 2 Axes>"
      ]
     },
     "metadata": {},
     "output_type": "display_data"
    }
   ],
   "source": [
    "import matplotlib.pyplot as plt\n",
    "\n",
    "# Pobranie wartości strat i dokładności z historii\n",
    "loss = history.history['loss']\n",
    "accuracy = history.history['accuracy']\n",
    "epochs = range(1, len(loss) + 1)\n",
    "\n",
    "# Wykres strat i dokładności\n",
    "plt.figure(figsize=(12, 6))\n",
    "\n",
    "# Wykres strat\n",
    "plt.subplot(1, 2, 1)\n",
    "plt.plot(epochs, accuracy, marker='o', label='Accuracy', color='blue')\n",
    "plt.title('Training Accuracy per Epoch')\n",
    "plt.xlabel('Epoch')\n",
    "plt.ylabel('Accuracy')\n",
    "plt.grid(True)\n",
    "plt.legend()\n",
    "\n",
    "# Wykres dokładności\n",
    "plt.subplot(1, 2, 2)\n",
    "plt.plot(epochs, loss, marker='o', label='Loss', color='red')\n",
    "plt.title('Training Loss per Epoch')\n",
    "plt.xlabel('Epoch')\n",
    "plt.ylabel('Loss')\n",
    "plt.grid(True)\n",
    "plt.legend()\n",
    "\n",
    "plt.tight_layout()\n",
    "plt.show()\n"
   ]
  },
  {
   "cell_type": "markdown",
   "metadata": {},
   "source": [
    "### RESULTS\n",
    "- bulding the model and applying saved weights\n",
    "- text generation function\n",
    "- generate text based on the provided beginning"
   ]
  },
  {
   "cell_type": "code",
   "execution_count": 40,
   "metadata": {
    "id": "zk2WJ2-XjkGz",
    "trusted": true
   },
   "outputs": [],
   "source": [
    "latest_check= tf.train.latest_checkpoint(checkpoint_dir)"
   ]
  },
  {
   "cell_type": "code",
   "execution_count": 41,
   "metadata": {
    "id": "LycQ-ot_jjyu",
    "trusted": true
   },
   "outputs": [],
   "source": [
    "model = build_model(vocab_size, embedding_dim, rnn_units, batch_size=1)\n",
    "\n",
    "model.load_weights(latest_check)\n",
    "\n",
    "model.build(tf.TensorShape([1, None]))"
   ]
  },
  {
   "cell_type": "code",
   "execution_count": 42,
   "metadata": {
    "id": "71xa6jnYVrAN",
    "trusted": true
   },
   "outputs": [
    {
     "name": "stdout",
     "output_type": "stream",
     "text": [
      "Model: \"sequential_1\"\n",
      "_________________________________________________________________\n",
      " Layer (type)                Output Shape              Param #   \n",
      "=================================================================\n",
      " embedding_1 (Embedding)     (1, None, 300)            26400     \n",
      "                                                                 \n",
      " simple_rnn_2 (SimpleRNN)    (1, None, 256)            142592    \n",
      "                                                                 \n",
      " simple_rnn_3 (SimpleRNN)    (1, None, 256)            131328    \n",
      "                                                                 \n",
      " dense_1 (Dense)             (1, None, 88)             22616     \n",
      "                                                                 \n",
      "=================================================================\n",
      "Total params: 322,936\n",
      "Trainable params: 322,936\n",
      "Non-trainable params: 0\n",
      "_________________________________________________________________\n"
     ]
    }
   ],
   "source": [
    "model.summary()"
   ]
  },
  {
   "cell_type": "code",
   "execution_count": 43,
   "metadata": {
    "id": "WvuwZBX5Ogfd",
    "trusted": true
   },
   "outputs": [],
   "source": [
    "def generate_text(model, start_string):\n",
    "\n",
    "  num_generate = 1000\n",
    "  input_eval = [char2index[s] for s in start_string]\n",
    "  input_eval = tf.expand_dims(input_eval, 0)\n",
    "  text_generated = []\n",
    "  scaling = 0.5\n",
    "\n",
    "  model.reset_states()\n",
    "  for i in range(num_generate):\n",
    "      predictions = model(input_eval)\n",
    "      predictions = tf.squeeze(predictions, 0)\n",
    "      predictions = predictions / scaling\n",
    "      predicted_id = tf.random.categorical(predictions, num_samples=1)[-1,0].numpy()\n",
    "      input_eval = tf.expand_dims([predicted_id], 0)\n",
    "      text_generated.append(index2char[predicted_id])\n",
    "\n",
    "  return (start_string + ''.join(text_generated))"
   ]
  },
  {
   "cell_type": "code",
   "execution_count": 52,
   "metadata": {
    "trusted": true
   },
   "outputs": [
    {
     "name": "stdout",
     "output_type": "stream",
     "text": [
      "Harry killed Ron  she  said,  and  the  others  that  he  was  road  suddenly  of  the  remained  by  the  water.  They  came  to  the  mountains  and  all  the  light  of  the  house  of  the  wise  in  the  since  that  he  would  not  come  to  himself  and  decided  to  the  look  along  the  land  of  the  dark,  and  the  top  of  the  Nine \n",
      "\n",
      "\n",
      "207 \n",
      "\n",
      "\n",
      "The  boats  to  the  Ring  to  see  a  silver \n",
      "than  the  sky  and  stood  of  the  far  our  dark  and  slain  of  the  bank,  recard  the  stream  seemed  to  the  gate.  They  could  see  a  word  of  the  dece  like  a  secret  and  become  of  the  hills  were  understand  it  was  a  corner  of  the  flowers  of  course  which  has  not  looked  at  last  the  end  of  the  Enemy  has  still  be  would  not  places  the  world  was  darkness  of  the  river  and  part  that  the  left  and  all  the  corners  of  the  Shire  was  a  long  the  long  and  walking  the  worder  was  green  and  bedrang  to  the  wood  was  a  hobbits  made  to  m\n"
     ]
    }
   ],
   "source": [
    "print(generate_text(model, start_string=u\"Harry killed Ron \"))"
   ]
  },
  {
   "cell_type": "code",
   "execution_count": 53,
   "metadata": {},
   "outputs": [
    {
     "name": "stdout",
     "output_type": "stream",
     "text": [
      "Bilbo killed Gandalf  that  dell  the  others  starting  the  land. \n",
      "\n",
      "‘And  I  should  say.  ‘It  was  a  country  found  at  the  windows.  The  morning  light  and  the  hobbits  road  to  have  to  the  stream  about  them  one  of  the  deep  round  the  path  of  the  riverlabe  where  he  could  not  long  ago  they  will  be  seen  the  land  that  was  the  south  of  the  road  not  meet  him  to  to  leave  Sam  slapped  them  to  see  the  way  of  the  Company \n",
      "a  rolled  a  last  seemed  to  be  in  the  news  of  the  Elves  far  a  great  chance  of  the  wind  came  to  the  mountains  and  the  day  they  could  be  great  the  stars  of  the  water  and  the  right  he  was  too  much  the  mountains  and  stake  the  trees  settered  stood  and  stood  towards  the  great  close  to  me  think,  and  a  great  steep  days  were  now  behind  the  road  of  the  sturned  the  song  of  the  stars  a  slowly  the  pony  and  good  and  going  behind  them  away.  I  say  to  be  only  to  \n"
     ]
    },
    {
     "name": "stdout",
     "output_type": "stream",
     "text": [
      "WARNING:tensorflow:Detecting that an object or model or tf.train.Checkpoint is being deleted with unrestored values. See the following logs for the specific values in question. To silence these warnings, use `status.expect_partial()`. See https://www.tensorflow.org/api_docs/python/tf/train/Checkpoint#restorefor details about the status object returned by the restore function.\n",
      "WARNING:tensorflow:Value in checkpoint could not be found in the restored object: (root).optimizer._iterations\n",
      "WARNING:tensorflow:Value in checkpoint could not be found in the restored object: (root).optimizer._learning_rate\n",
      "WARNING:tensorflow:Value in checkpoint could not be found in the restored object: (root).optimizer._variables.1\n",
      "WARNING:tensorflow:Value in checkpoint could not be found in the restored object: (root).optimizer._variables.2\n",
      "WARNING:tensorflow:Value in checkpoint could not be found in the restored object: (root).optimizer._variables.3\n",
      "WARNING:tensorflow:Value in checkpoint could not be found in the restored object: (root).optimizer._variables.4\n",
      "WARNING:tensorflow:Value in checkpoint could not be found in the restored object: (root).optimizer._variables.5\n",
      "WARNING:tensorflow:Value in checkpoint could not be found in the restored object: (root).optimizer._variables.6\n",
      "WARNING:tensorflow:Value in checkpoint could not be found in the restored object: (root).optimizer._variables.7\n",
      "WARNING:tensorflow:Value in checkpoint could not be found in the restored object: (root).optimizer._variables.8\n",
      "WARNING:tensorflow:Value in checkpoint could not be found in the restored object: (root).optimizer._variables.9\n",
      "WARNING:tensorflow:Value in checkpoint could not be found in the restored object: (root).optimizer._variables.10\n",
      "WARNING:tensorflow:Value in checkpoint could not be found in the restored object: (root).optimizer._variables.11\n",
      "WARNING:tensorflow:Value in checkpoint could not be found in the restored object: (root).optimizer._variables.12\n",
      "WARNING:tensorflow:Value in checkpoint could not be found in the restored object: (root).optimizer._variables.13\n",
      "WARNING:tensorflow:Value in checkpoint could not be found in the restored object: (root).optimizer._variables.14\n",
      "WARNING:tensorflow:Value in checkpoint could not be found in the restored object: (root).optimizer._variables.15\n",
      "WARNING:tensorflow:Value in checkpoint could not be found in the restored object: (root).optimizer._variables.16\n",
      "WARNING:tensorflow:Value in checkpoint could not be found in the restored object: (root).optimizer._variables.17\n",
      "WARNING:tensorflow:Value in checkpoint could not be found in the restored object: (root).optimizer._variables.18\n"
     ]
    }
   ],
   "source": [
    "print(generate_text(model, start_string=u\"Bilbo killed Gandalf \"))"
   ]
  },
  {
   "cell_type": "code",
   "execution_count": 45,
   "metadata": {
    "slideshow": {
     "slide_type": "slide"
    }
   },
   "outputs": [
    {
     "name": "stdout",
     "output_type": "stream",
     "text": [
      "Manchaster Uniter just lost the war on Anfield fighting  the  water.  ‘I  will  not  leave  them  and  the  windows  that  he  was  one  that  the  Ring  was  like  the  sun  had  been  last  they  rode  of  the  Sun’s  shining  soft  and  the  windows.  When  they  say  to  be  doubt  at  the  water  and  bore \n",
      "and  passing  at  the  worses  of  the  water  grew  starting  to  him,  and  a  great  land \n",
      "to  do  worrow  that  he  heard  of  the  hills  behind  them  to  feel  that  he  was  a  shadow  of  the  Ring  to  discrassed  out  of  the  hills,  and  were  master  in  the  sun  the  trees  of  which  was  not  be  a  speak  was  still  to  the  chill  and  the  stream  was  broken  the  Elves  of  the  Bridge  and  the  land  of  the  land  of  the  wind  waters  and  a  large  into  the  day,  and  going  them  and  went  to \n",
      "clear  to  the  Company  was  a  little  world  he  spoke  of  merry  and  slowly  he  was  put  it,  and  in  the  ready  to  the  hobbits  would  not  see  the  trees  shall  fell  that  she  leave  the  gr\n"
     ]
    }
   ],
   "source": [
    "print(generate_text(model, start_string=u\"Manchaster Uniter just lost the war on Anfield fighting\"))"
   ]
  },
  {
   "cell_type": "markdown",
   "metadata": {},
   "source": [
    "---"
   ]
  },
  {
   "cell_type": "markdown",
   "metadata": {},
   "source": [
    "Manchaster Uniter just lost the war on Anfield fighting  the  water.  ‘I  will  not  leave  them  and  the  windows  that  he  was  one  that  the  Ring  was  like  the  sun  had  been  last  they  rode  of  the  Sun’s  shining  soft  and  the  windows.  When  they  say  to  be  doubt  at  the  water  and  bore \n",
    "and  passing  at  the  worses  of  the  water  grew  starting  to  him,  and  a  great  land \n",
    "to  do  worrow  that  he  heard  of  the  hills  behind  them  to  feel  that  he  was  a  shadow  of  the  Ring  to  discrassed  out  of  the  hills,  and  were  master  in  the  sun  the  trees  of  which  was  not  be  a  speak  was  still  to  the  chill  and  the  stream  was  broken  the  Elves  of  the  Bridge  and  the  land  of  the  land  of  the  wind  waters  and  a  large  into  the  day,  and  going  them  and  went  to \n",
    "clear  to  the  Company  was  a  little  world  he  spoke  of  merry  and  slowly  he  was  put  it,  and  in  the  ready  to  the  hobbits  would  not  see  the  trees  shall  fell  that  she  leave  the  gr"
   ]
  },
  {
   "cell_type": "code",
   "execution_count": 46,
   "metadata": {},
   "outputs": [],
   "source": [
    "def calculate_cross_entropy_loss(model, test_sequences):\n",
    "    total_loss = 0\n",
    "    total_steps = 0\n",
    "    \n",
    "    for sequence in test_sequences:\n",
    "        input_seq = sequence[:-1]\n",
    "        target_seq = sequence[1:]\n",
    "        \n",
    "        input_seq = tf.expand_dims(input_seq, 0)\n",
    "        \n",
    "        predictions = model(input_seq)\n",
    "        \n",
    "        loss = tf.keras.losses.sparse_categorical_crossentropy(target_seq, predictions[0], from_logits=True)\n",
    "        \n",
    "        total_loss += tf.reduce_sum(loss).numpy()\n",
    "        total_steps += len(target_seq)\n",
    "    \n",
    "    avg_loss = total_loss / total_steps\n",
    "    return avg_loss"
   ]
  },
  {
   "cell_type": "code",
   "execution_count": 47,
   "metadata": {},
   "outputs": [
    {
     "name": "stderr",
     "output_type": "stream",
     "text": [
      "2024-12-28 22:50:55.191705: I tensorflow/core/common_runtime/executor.cc:1197] [/device:CPU:0] (DEBUG INFO) Executor start aborting (this does not indicate an error and you can ignore this message): INVALID_ARGUMENT: You must feed a value for placeholder tensor 'Placeholder/_0' with dtype int64 and shape [1145534]\n",
      "\t [[{{node Placeholder/_0}}]]\n"
     ]
    }
   ],
   "source": [
    "# tutaj można załadować inną część tolkiena albo hobbita\n",
    "first_10_sequences = list(sequences.take(2))"
   ]
  },
  {
   "cell_type": "code",
   "execution_count": 48,
   "metadata": {},
   "outputs": [
    {
     "data": {
      "text/plain": [
       "1.1650308609008788"
      ]
     },
     "execution_count": 48,
     "metadata": {},
     "output_type": "execute_result"
    }
   ],
   "source": [
    "avg_loss = calculate_cross_entropy_loss(model, first_10_sequences)\n",
    "avg_loss"
   ]
  },
  {
   "cell_type": "code",
   "execution_count": 49,
   "metadata": {},
   "outputs": [
    {
     "data": {
      "text/plain": [
       "3.206021822397807"
      ]
     },
     "execution_count": 49,
     "metadata": {},
     "output_type": "execute_result"
    }
   ],
   "source": [
    "perplexity = np.exp(avg_loss)\n",
    "perplexity"
   ]
  },
  {
   "cell_type": "code",
   "execution_count": 50,
   "metadata": {},
   "outputs": [
    {
     "data": {
      "image/png": "[encoded data removed]",
      "text/plain": [
       "<Figure size 1200x800 with 2 Axes>"
      ]
     },
     "metadata": {},
     "output_type": "display_data"
    }
   ],
   "source": [
    "import matplotlib.pyplot as plt\n",
    "\n",
    "# Pobranie wartości strat i dokładności z historii\n",
    "loss = history.history['loss']\n",
    "accuracy = history.history['accuracy']\n",
    "epochs = range(1, len(loss) + 1)\n",
    "\n",
    "# Informacje do wyświetlenia\n",
    "architecture = \"RNN\"\n",
    "source_text = \"ring.txt\"\n",
    "info_text = f\"Architecture: {architecture}\\nSource: {source_text}\\nAvg Loss: {avg_loss:.4f}\\nPerplexity: {perplexity:.4f}\"\n",
    "\n",
    "# Wykres strat i dokładności\n",
    "plt.figure(figsize=(12, 8))\n",
    "\n",
    "# Tytuł wykresu z informacjami\n",
    "plt.suptitle(f\"Training Metrics\\n{info_text}\", fontsize=14, fontweight='bold', y=1.02)\n",
    "\n",
    "# Wykres dokładności\n",
    "plt.subplot(1, 2, 1)\n",
    "plt.plot(epochs, accuracy, marker='o', label='Accuracy', color='blue')\n",
    "plt.title('Training Accuracy per Epoch')\n",
    "plt.xlabel('Epoch')\n",
    "plt.ylabel('Accuracy')\n",
    "plt.grid(True)\n",
    "plt.legend()\n",
    "\n",
    "# Wykres strat\n",
    "plt.subplot(1, 2, 2)\n",
    "plt.plot(epochs, loss, marker='o', label='Loss', color='red')\n",
    "plt.title('Training Loss per Epoch')\n",
    "plt.xlabel('Epoch')\n",
    "plt.ylabel('Loss')\n",
    "plt.grid(True)\n",
    "plt.legend()\n",
    "\n",
    "\n",
    "plt.tight_layout()\n",
    "plt.show()\n"
   ]
  },
  {
   "cell_type": "code",
   "execution_count": 51,
   "metadata": {},
   "outputs": [
    {
     "data": {
      "image/png": "[encoded data removed]",
      "text/plain": [
       "<Figure size 1600x800 with 2 Axes>"
      ]
     },
     "metadata": {},
     "output_type": "display_data"
    }
   ],
   "source": [
    "import matplotlib.pyplot as plt\n",
    "\n",
    "# Pobranie wartości strat i dokładności z historii\n",
    "loss = history.history['loss']\n",
    "accuracy = history.history['accuracy']\n",
    "epochs = range(1, len(loss) + 1)\n",
    "\n",
    "# Informacje do wyświetlenia\n",
    "architecture = \"RNN\"\n",
    "source_text = \"ring.txt\"\n",
    "avg_loss = sum(loss) / len(loss)  # Średnia strat\n",
    "perplexity = 2 ** avg_loss  # Przykład obliczenia perplexity\n",
    "info_text = f\"Architecture: {architecture}\\nSource: {source_text}\\nAvg Loss: {avg_loss:.4f}\\nPerplexity: {perplexity:.4f}\"\n",
    "\n",
    "# Tworzenie figury i wykresów\n",
    "fig, axes = plt.subplots(1, 2, figsize=(16, 8), gridspec_kw={'width_ratios': [1, 1], 'wspace': 0.3})\n",
    "\n",
    "# Tytuł na środku\n",
    "fig.suptitle(\"Training Metrics\", fontsize=16, fontweight='bold')\n",
    "\n",
    "# Wykres dokładności\n",
    "axes[0].plot(epochs, accuracy, marker='o', label='Accuracy', color='blue')\n",
    "axes[0].set_title('Training Accuracy per Epoch')\n",
    "axes[0].set_xlabel('Epoch')\n",
    "axes[0].set_ylabel('Accuracy')\n",
    "axes[0].grid(True)\n",
    "axes[0].legend()\n",
    "\n",
    "# Wykres strat\n",
    "axes[1].plot(epochs, loss, marker='o', label='Loss', color='red')\n",
    "axes[1].set_title('Training Loss per Epoch')\n",
    "axes[1].set_xlabel('Epoch')\n",
    "axes[1].set_ylabel('Loss')\n",
    "axes[1].grid(True)\n",
    "axes[1].legend()\n",
    "\n",
    "# Dodanie informacji w pustej przestrzeni (poza wykresami)\n",
    "fig.text(0.7, 0.5, info_text, fontsize=12, va='center', ha='left',\n",
    "         bbox=dict(facecolor='white', alpha=0.8, edgecolor='gray', boxstyle=\"round\"))\n",
    "\n",
    "# Dostosowanie marginesów, aby uniknąć nachodzenia\n",
    "plt.subplots_adjust(left=0.1, right=0.65, top=0.9, bottom=0.1)\n",
    "\n",
    "# Wyświetlanie wykresu\n",
    "plt.show()\n"
   ]
  }
 ],
 "metadata": {
  "kernelspec": {
   "display_name": "venv",
   "language": "python",
   "name": "python3"
  },
  "language_info": {
   "codemirror_mode": {
    "name": "ipython",
    "version": 3
   },
   "file_extension": ".py",
   "mimetype": "text/x-python",
   "name": "python",
   "nbconvert_exporter": "python",
   "pygments_lexer": "ipython3",
   "version": "3.10.12"
  }
 },
 "nbformat": 4,
 "nbformat_minor": 4
}
